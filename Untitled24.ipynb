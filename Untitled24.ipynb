{
  "nbformat": 4,
  "nbformat_minor": 0,
  "metadata": {
    "colab": {
      "name": "Untitled24.ipynb",
      "provenance": []
    },
    "kernelspec": {
      "name": "python3",
      "display_name": "Python 3"
    },
    "language_info": {
      "name": "python"
    }
  },
  "cells": [
    {
      "cell_type": "code",
      "execution_count": 1,
      "metadata": {
        "id": "_Yhkj85ca6Ml"
      },
      "outputs": [],
      "source": [
        "import tensorflow as tf \n",
        "import matplotlib.pyplot as plt \n",
        "import numpy as np \n",
        "import pandas as pd\n"
      ]
    },
    {
      "cell_type": "code",
      "source": [
        "import os \n",
        "import cv2 \n",
        "\n",
        "X = [ ]\n",
        "y = [ ]\n",
        "\n",
        "y_dict = { \n",
        "    \n",
        "}\n",
        "SIZE = 124\n",
        "y_counter = 0\n",
        "for folder in os.scandir('/content/drive/MyDrive/images') :\n",
        "  print(folder.path)\n",
        "  name = folder.path.split('/')[-1]\n",
        "  image_counter = 0\n",
        "  \n",
        "  for image in os.scandir(folder.path):\n",
        "    image = image.path\n",
        "    if image_counter == 100 :\n",
        "      break\n",
        "    if image is not None :\n",
        "      img = cv2.imread(image)\n",
        "      if img is not None :\n",
        "        img = cv2.resize(img,(SIZE, SIZE))\n",
        "        X.append(img)\n",
        "        image_counter += 1\n",
        "        y.append(y_counter)\n",
        "  y_dict[name] = y_counter\n",
        "  y_counter += 1\n",
        "\n"
      ],
      "metadata": {
        "colab": {
          "base_uri": "https://localhost:8080/"
        },
        "id": "HWsf9WWhbOIe",
        "outputId": "2efede82-5070-4820-ea49-de26dbc6659a"
      },
      "execution_count": 2,
      "outputs": [
        {
          "output_type": "stream",
          "name": "stdout",
          "text": [
            "/content/drive/MyDrive/images/lebron_james\n",
            "/content/drive/MyDrive/images/lionel_messi\n",
            "/content/drive/MyDrive/images/sachin_ramesh_tendulkar\n",
            "/content/drive/MyDrive/images/virat_kohli\n",
            "/content/drive/MyDrive/images/cristiano_ronaldo\n",
            "/content/drive/MyDrive/images/neymar_jr\n"
          ]
        }
      ]
    },
    {
      "cell_type": "code",
      "source": [
        "from tensorflow.keras.applications.vgg16 import VGG16"
      ],
      "metadata": {
        "id": "JcBSxb5Sbglr"
      },
      "execution_count": 3,
      "outputs": []
    },
    {
      "cell_type": "code",
      "source": [
        "X = np.array(X)\n",
        "\n",
        "y = np.array(y)\n",
        "\n",
        "\n",
        "from sklearn.model_selection import train_test_split \n",
        "x_train, x_test, y_train, y_test = train_test_split(X, y, random_state = 42)\n",
        "\n",
        "\n",
        "print(f\"Number of Training data :{len(x_train)}\")\n",
        "print(f\"Number of Testing data :{len(x_test)}\")\n",
        "\n",
        "x_train, x_test = x_train/255.0, x_test/255.0\n",
        "\n"
      ],
      "metadata": {
        "colab": {
          "base_uri": "https://localhost:8080/"
        },
        "id": "fA0zzLJNbgpf",
        "outputId": "98535a3a-5b70-4cd4-cbe0-a0b3397104f4"
      },
      "execution_count": 20,
      "outputs": [
        {
          "output_type": "stream",
          "name": "stdout",
          "text": [
            "Number of Training data :450\n",
            "Number of Testing data :150\n"
          ]
        }
      ]
    },
    {
      "cell_type": "code",
      "source": [
        "from sklearn.preprocessing import LabelEncoder\n",
        "le = LabelEncoder()\n",
        "y_train = le.fit_transform(y_train)\n",
        "y_test = le.fit_transform(y_test)\n",
        "y_test"
      ],
      "metadata": {
        "colab": {
          "base_uri": "https://localhost:8080/"
        },
        "id": "TPa5Xd4dbgus",
        "outputId": "e457b8f9-75ee-4049-c1f2-a80e04f04faa"
      },
      "execution_count": 22,
      "outputs": [
        {
          "output_type": "execute_result",
          "data": {
            "text/plain": [
              "array([1, 4, 5, 0, 1, 2, 0, 4, 0, 3, 0, 1, 1, 5, 3, 2, 0, 2, 1, 0, 0, 5,\n",
              "       5, 5, 3, 5, 0, 1, 5, 4, 5, 1, 0, 2, 1, 4, 1, 5, 4, 2, 3, 0, 5, 5,\n",
              "       0, 1, 4, 1, 0, 4, 2, 2, 1, 5, 5, 3, 2, 1, 1, 1, 0, 1, 3, 5, 5, 0,\n",
              "       5, 5, 0, 3, 3, 0, 4, 3, 4, 5, 3, 2, 5, 4, 2, 4, 5, 3, 0, 0, 1, 2,\n",
              "       3, 2, 2, 5, 0, 3, 2, 2, 2, 0, 4, 0, 0, 2, 5, 3, 0, 4, 1, 2, 2, 4,\n",
              "       1, 4, 5, 5, 3, 3, 3, 1, 4, 4, 1, 0, 3, 5, 1, 1, 5, 2, 5, 4, 0, 5,\n",
              "       1, 1, 4, 1, 0, 0, 2, 0, 0, 2, 1, 0, 4, 1, 3, 4, 0, 0])"
            ]
          },
          "metadata": {},
          "execution_count": 22
        }
      ]
    },
    {
      "cell_type": "code",
      "source": [
        "vgg_model = VGG16(\n",
        "    weights = 'imagenet',\n",
        "    include_top = False,\n",
        "    input_shape = (124, 124, 3)\n",
        ")"
      ],
      "metadata": {
        "colab": {
          "base_uri": "https://localhost:8080/"
        },
        "id": "silxRwobbg1d",
        "outputId": "35a805ac-86b9-4d1b-fc33-510bf1880c6a"
      },
      "execution_count": 10,
      "outputs": [
        {
          "output_type": "stream",
          "name": "stdout",
          "text": [
            "Downloading data from https://storage.googleapis.com/tensorflow/keras-applications/vgg16/vgg16_weights_tf_dim_ordering_tf_kernels_notop.h5\n",
            "58892288/58889256 [==============================] - 0s 0us/step\n",
            "58900480/58889256 [==============================] - 0s 0us/step\n"
          ]
        }
      ]
    },
    {
      "cell_type": "code",
      "source": [
        "vgg_model.summary()"
      ],
      "metadata": {
        "colab": {
          "base_uri": "https://localhost:8080/"
        },
        "id": "Pgd7wOEudZi6",
        "outputId": "f45a49ac-8cba-4aa1-a89f-ddb3cca7b2e5"
      },
      "execution_count": 11,
      "outputs": [
        {
          "output_type": "stream",
          "name": "stdout",
          "text": [
            "Model: \"vgg16\"\n",
            "_________________________________________________________________\n",
            " Layer (type)                Output Shape              Param #   \n",
            "=================================================================\n",
            " input_1 (InputLayer)        [(None, 124, 124, 3)]     0         \n",
            "                                                                 \n",
            " block1_conv1 (Conv2D)       (None, 124, 124, 64)      1792      \n",
            "                                                                 \n",
            " block1_conv2 (Conv2D)       (None, 124, 124, 64)      36928     \n",
            "                                                                 \n",
            " block1_pool (MaxPooling2D)  (None, 62, 62, 64)        0         \n",
            "                                                                 \n",
            " block2_conv1 (Conv2D)       (None, 62, 62, 128)       73856     \n",
            "                                                                 \n",
            " block2_conv2 (Conv2D)       (None, 62, 62, 128)       147584    \n",
            "                                                                 \n",
            " block2_pool (MaxPooling2D)  (None, 31, 31, 128)       0         \n",
            "                                                                 \n",
            " block3_conv1 (Conv2D)       (None, 31, 31, 256)       295168    \n",
            "                                                                 \n",
            " block3_conv2 (Conv2D)       (None, 31, 31, 256)       590080    \n",
            "                                                                 \n",
            " block3_conv3 (Conv2D)       (None, 31, 31, 256)       590080    \n",
            "                                                                 \n",
            " block3_pool (MaxPooling2D)  (None, 15, 15, 256)       0         \n",
            "                                                                 \n",
            " block4_conv1 (Conv2D)       (None, 15, 15, 512)       1180160   \n",
            "                                                                 \n",
            " block4_conv2 (Conv2D)       (None, 15, 15, 512)       2359808   \n",
            "                                                                 \n",
            " block4_conv3 (Conv2D)       (None, 15, 15, 512)       2359808   \n",
            "                                                                 \n",
            " block4_pool (MaxPooling2D)  (None, 7, 7, 512)         0         \n",
            "                                                                 \n",
            " block5_conv1 (Conv2D)       (None, 7, 7, 512)         2359808   \n",
            "                                                                 \n",
            " block5_conv2 (Conv2D)       (None, 7, 7, 512)         2359808   \n",
            "                                                                 \n",
            " block5_conv3 (Conv2D)       (None, 7, 7, 512)         2359808   \n",
            "                                                                 \n",
            " block5_pool (MaxPooling2D)  (None, 3, 3, 512)         0         \n",
            "                                                                 \n",
            "=================================================================\n",
            "Total params: 14,714,688\n",
            "Trainable params: 14,714,688\n",
            "Non-trainable params: 0\n",
            "_________________________________________________________________\n"
          ]
        }
      ]
    },
    {
      "cell_type": "code",
      "source": [
        "# Making trainable parameter as as Non-Trainable parameter\n",
        "\n",
        "for layer in vgg_model.layers :\n",
        "  layer.trainable = False\n",
        "vgg_model.summary()"
      ],
      "metadata": {
        "colab": {
          "base_uri": "https://localhost:8080/"
        },
        "id": "FtcE7SI1dZow",
        "outputId": "9d2c181f-59d1-499b-c1ad-b5928592310a"
      },
      "execution_count": 12,
      "outputs": [
        {
          "output_type": "stream",
          "name": "stdout",
          "text": [
            "Model: \"vgg16\"\n",
            "_________________________________________________________________\n",
            " Layer (type)                Output Shape              Param #   \n",
            "=================================================================\n",
            " input_1 (InputLayer)        [(None, 124, 124, 3)]     0         \n",
            "                                                                 \n",
            " block1_conv1 (Conv2D)       (None, 124, 124, 64)      1792      \n",
            "                                                                 \n",
            " block1_conv2 (Conv2D)       (None, 124, 124, 64)      36928     \n",
            "                                                                 \n",
            " block1_pool (MaxPooling2D)  (None, 62, 62, 64)        0         \n",
            "                                                                 \n",
            " block2_conv1 (Conv2D)       (None, 62, 62, 128)       73856     \n",
            "                                                                 \n",
            " block2_conv2 (Conv2D)       (None, 62, 62, 128)       147584    \n",
            "                                                                 \n",
            " block2_pool (MaxPooling2D)  (None, 31, 31, 128)       0         \n",
            "                                                                 \n",
            " block3_conv1 (Conv2D)       (None, 31, 31, 256)       295168    \n",
            "                                                                 \n",
            " block3_conv2 (Conv2D)       (None, 31, 31, 256)       590080    \n",
            "                                                                 \n",
            " block3_conv3 (Conv2D)       (None, 31, 31, 256)       590080    \n",
            "                                                                 \n",
            " block3_pool (MaxPooling2D)  (None, 15, 15, 256)       0         \n",
            "                                                                 \n",
            " block4_conv1 (Conv2D)       (None, 15, 15, 512)       1180160   \n",
            "                                                                 \n",
            " block4_conv2 (Conv2D)       (None, 15, 15, 512)       2359808   \n",
            "                                                                 \n",
            " block4_conv3 (Conv2D)       (None, 15, 15, 512)       2359808   \n",
            "                                                                 \n",
            " block4_pool (MaxPooling2D)  (None, 7, 7, 512)         0         \n",
            "                                                                 \n",
            " block5_conv1 (Conv2D)       (None, 7, 7, 512)         2359808   \n",
            "                                                                 \n",
            " block5_conv2 (Conv2D)       (None, 7, 7, 512)         2359808   \n",
            "                                                                 \n",
            " block5_conv3 (Conv2D)       (None, 7, 7, 512)         2359808   \n",
            "                                                                 \n",
            " block5_pool (MaxPooling2D)  (None, 3, 3, 512)         0         \n",
            "                                                                 \n",
            "=================================================================\n",
            "Total params: 14,714,688\n",
            "Trainable params: 0\n",
            "Non-trainable params: 14,714,688\n",
            "_________________________________________________________________\n"
          ]
        }
      ]
    },
    {
      "cell_type": "code",
      "source": [
        "feature_extractor = vgg_model.predict(x_train)"
      ],
      "metadata": {
        "id": "7FP_V06SdZuB"
      },
      "execution_count": 13,
      "outputs": []
    },
    {
      "cell_type": "code",
      "source": [
        "feature_extractor.shape"
      ],
      "metadata": {
        "colab": {
          "base_uri": "https://localhost:8080/"
        },
        "id": "yn4ZivX-dZx2",
        "outputId": "659e9bcb-5be4-4d54-89c1-ce95e769d99c"
      },
      "execution_count": 15,
      "outputs": [
        {
          "output_type": "execute_result",
          "data": {
            "text/plain": [
              "(450, 3, 3, 512)"
            ]
          },
          "metadata": {},
          "execution_count": 15
        }
      ]
    },
    {
      "cell_type": "code",
      "source": [
        "x_train_for_ml = feature_extractor.reshape(len(x_train), 3*3*512)"
      ],
      "metadata": {
        "id": "TPIjav2qbg5T"
      },
      "execution_count": 16,
      "outputs": []
    },
    {
      "cell_type": "code",
      "source": [
        "x_train_for_ml.shape"
      ],
      "metadata": {
        "colab": {
          "base_uri": "https://localhost:8080/"
        },
        "id": "jZnT9a9_bg_d",
        "outputId": "4d19323b-84d2-41da-9871-6c6e2b6f089f"
      },
      "execution_count": 17,
      "outputs": [
        {
          "output_type": "execute_result",
          "data": {
            "text/plain": [
              "(450, 4608)"
            ]
          },
          "metadata": {},
          "execution_count": 17
        }
      ]
    },
    {
      "cell_type": "code",
      "source": [
        "feature_extractor_for_test = vgg_model.predict(x_test)\n",
        "x_test_for_ml = feature_extractor_for_test.reshape(len(x_test), 3*3*512)"
      ],
      "metadata": {
        "id": "lGKA8EeMipqb"
      },
      "execution_count": 27,
      "outputs": []
    },
    {
      "cell_type": "code",
      "source": [
        "from sklearn.ensemble import RandomForestClassifier\n",
        "rmf = RandomForestClassifier(n_estimators = 100, random_state = 42)"
      ],
      "metadata": {
        "id": "ZKiXD6zwbhDQ"
      },
      "execution_count": 18,
      "outputs": []
    },
    {
      "cell_type": "code",
      "source": [
        "rmf.fit(x_train_for_ml, y_train)"
      ],
      "metadata": {
        "colab": {
          "base_uri": "https://localhost:8080/"
        },
        "id": "eAoan6ZfhQKs",
        "outputId": "da24b8c5-af1d-4a2b-cdf7-4126923fbffb"
      },
      "execution_count": 26,
      "outputs": [
        {
          "output_type": "execute_result",
          "data": {
            "text/plain": [
              "RandomForestClassifier(random_state=42)"
            ]
          },
          "metadata": {},
          "execution_count": 26
        }
      ]
    },
    {
      "cell_type": "code",
      "source": [
        "y_pred = rmf.predict(x_test_for_ml)"
      ],
      "metadata": {
        "id": "2LGcEW2GhQR0"
      },
      "execution_count": 28,
      "outputs": []
    },
    {
      "cell_type": "code",
      "source": [
        "from sklearn.metrics import confusion_matrix, accuracy_score, classification_report\n",
        "\n",
        "print(classification_report(y_test, y_pred))"
      ],
      "metadata": {
        "colab": {
          "base_uri": "https://localhost:8080/"
        },
        "id": "uy1XOkeDhQXC",
        "outputId": "46b75fb1-7aef-4916-ba3c-d3a59eb9ad87"
      },
      "execution_count": 30,
      "outputs": [
        {
          "output_type": "stream",
          "name": "stdout",
          "text": [
            "              precision    recall  f1-score   support\n",
            "\n",
            "           0       0.83      0.47      0.60        32\n",
            "           1       0.39      0.32      0.35        28\n",
            "           2       0.41      0.64      0.50        22\n",
            "           3       0.40      0.74      0.52        19\n",
            "           4       0.54      0.62      0.58        21\n",
            "           5       0.31      0.18      0.23        28\n",
            "\n",
            "    accuracy                           0.47       150\n",
            "   macro avg       0.48      0.49      0.46       150\n",
            "weighted avg       0.50      0.47      0.46       150\n",
            "\n"
          ]
        }
      ]
    },
    {
      "cell_type": "code",
      "source": [
        ""
      ],
      "metadata": {
        "id": "7I5j7RZihQeJ"
      },
      "execution_count": 32,
      "outputs": []
    },
    {
      "cell_type": "code",
      "source": [
        ""
      ],
      "metadata": {
        "id": "MT29TtsUbhJI"
      },
      "execution_count": null,
      "outputs": []
    },
    {
      "cell_type": "code",
      "source": [
        ""
      ],
      "metadata": {
        "id": "wDhhkAJGbhNq"
      },
      "execution_count": null,
      "outputs": []
    },
    {
      "cell_type": "code",
      "source": [
        ""
      ],
      "metadata": {
        "id": "HcWqgf0ZbhUO"
      },
      "execution_count": null,
      "outputs": []
    }
  ]
}