{
  "nbformat": 4,
  "nbformat_minor": 0,
  "metadata": {
    "colab": {
      "name": "Alexnet.ipynb",
      "provenance": []
    },
    "kernelspec": {
      "name": "python3",
      "display_name": "Python 3"
    },
    "language_info": {
      "name": "python"
    }
  },
  "cells": [
    {
      "cell_type": "code",
      "execution_count": 41,
      "metadata": {
        "id": "E-g-pqlUZ0IX"
      },
      "outputs": [],
      "source": [
        "import tensorflow.keras as tf\n",
        "import cv2\n",
        "import matplotlib.pyplot as plt\n",
        "import numpy as np "
      ]
    },
    {
      "cell_type": "code",
      "source": [
        "# Alexnet is a second model neural network model developed for the computer vision task with used for the \n",
        "# color images "
      ],
      "metadata": {
        "id": "UT95mguWaoBS"
      },
      "execution_count": 42,
      "outputs": []
    },
    {
      "cell_type": "code",
      "source": [
        "alexnet_model = tf.Sequential()\n",
        "\n",
        "alexnet_model.add(\n",
        "    tf.layers.Input(\n",
        "    shape = ((227, 227, 3))\n",
        ")\n",
        ")"
      ],
      "metadata": {
        "id": "EDZvv9kBaul-"
      },
      "execution_count": 43,
      "outputs": []
    },
    {
      "cell_type": "code",
      "source": [
        "alexnet_model.add(\n",
        "    tf.layers.Conv2D(\n",
        "        kernel_size = (11, 11),\n",
        "        strides = (4, 4), \n",
        "        filters = 96\n",
        "    )\n",
        ")"
      ],
      "metadata": {
        "id": "SBVuLKZybQSF"
      },
      "execution_count": 44,
      "outputs": []
    },
    {
      "cell_type": "code",
      "source": [
        "alexnet_model.add(\n",
        "    tf.layers.MaxPool2D(pool_size = (3, 3), strides = (2, 2))\n",
        ")"
      ],
      "metadata": {
        "id": "CLfKazcbbQWY"
      },
      "execution_count": 45,
      "outputs": []
    },
    {
      "cell_type": "code",
      "source": [
        "alexnet_model.add(\n",
        "    tf.layers.Dropout(rate = 0.2)\n",
        ")"
      ],
      "metadata": {
        "id": "ukN7rerLn4s1"
      },
      "execution_count": 46,
      "outputs": []
    },
    {
      "cell_type": "code",
      "source": [
        "alexnet_model.add(\n",
        "    tf.layers.Conv2D(\n",
        "        kernel_size = (5, 5),\n",
        "        strides = (1, 1), \n",
        "        filters = 256,\n",
        "        padding = 'same'\n",
        "    )\n",
        ")"
      ],
      "metadata": {
        "id": "hHMagOSIauqO"
      },
      "execution_count": 47,
      "outputs": []
    },
    {
      "cell_type": "code",
      "source": [
        "alexnet_model.add(\n",
        "    tf.layers.MaxPool2D(pool_size = (3, 3), strides = (2, 2))\n",
        ")"
      ],
      "metadata": {
        "id": "MJ_FukcpauxS"
      },
      "execution_count": 48,
      "outputs": []
    },
    {
      "cell_type": "code",
      "source": [
        "alexnet_model.add(\n",
        "    tf.layers.Dropout(rate = 0.2)\n",
        ")"
      ],
      "metadata": {
        "id": "pkyLk3VDoAkr"
      },
      "execution_count": 49,
      "outputs": []
    },
    {
      "cell_type": "code",
      "source": [
        "alexnet_model.add(\n",
        "    tf.layers.Conv2D(\n",
        "        kernel_size = (3, 3),\n",
        "        strides = (1, 1), \n",
        "        filters = 384,\n",
        "        padding = 'same'\n",
        "    )\n",
        ")"
      ],
      "metadata": {
        "id": "8vrNP0QPb73I"
      },
      "execution_count": 50,
      "outputs": []
    },
    {
      "cell_type": "code",
      "source": [
        "alexnet_model.add(\n",
        "    tf.layers.Dropout(rate = 0.2)\n",
        ")"
      ],
      "metadata": {
        "id": "cF6-WtmSoCLk"
      },
      "execution_count": 51,
      "outputs": []
    },
    {
      "cell_type": "code",
      "source": [
        "alexnet_model.add(\n",
        "    tf.layers.Conv2D(\n",
        "        kernel_size = (3, 3),\n",
        "        strides = (1, 1), \n",
        "        filters = 384,\n",
        "        padding = 'same'\n",
        "    )\n",
        ")"
      ],
      "metadata": {
        "id": "AMv2ybMOb78z"
      },
      "execution_count": 52,
      "outputs": []
    },
    {
      "cell_type": "code",
      "source": [
        "alexnet_model.add(\n",
        "    tf.layers.Dropout(rate = 0.2)\n",
        ")"
      ],
      "metadata": {
        "id": "lm-ivHmpoDGb"
      },
      "execution_count": 53,
      "outputs": []
    },
    {
      "cell_type": "code",
      "source": [
        "alexnet_model.add(\n",
        "    tf.layers.Conv2D(\n",
        "        kernel_size = (3, 3),\n",
        "        strides = (1, 1), \n",
        "        filters = 256,\n",
        "        padding = 'same'\n",
        "    )\n",
        ")"
      ],
      "metadata": {
        "id": "SeAxi-xkcaPs"
      },
      "execution_count": 54,
      "outputs": []
    },
    {
      "cell_type": "code",
      "source": [
        "alexnet_model.add(\n",
        "    tf.layers.MaxPool2D(pool_size = (3, 3), strides = (2, 2))\n",
        ")"
      ],
      "metadata": {
        "id": "7fkkrz8qcgC0"
      },
      "execution_count": 55,
      "outputs": []
    },
    {
      "cell_type": "code",
      "source": [
        "alexnet_model.add(\n",
        "    tf.layers.Flatten()\n",
        ")"
      ],
      "metadata": {
        "id": "AgW_KSpDclNn"
      },
      "execution_count": 56,
      "outputs": []
    },
    {
      "cell_type": "code",
      "source": [
        "alexnet_model.add(\n",
        "    tf.layers.Dense(\n",
        "        units = 9216, activation = 'relu'\n",
        "    )\n",
        ")"
      ],
      "metadata": {
        "id": "JXiUUmhDclSf"
      },
      "execution_count": 57,
      "outputs": []
    },
    {
      "cell_type": "code",
      "source": [
        "alexnet_model.add(\n",
        "    tf.layers.Dense(\n",
        "        units = 4096, activation = 'relu'\n",
        "    )\n",
        ")"
      ],
      "metadata": {
        "id": "qbWsaME7c2H6"
      },
      "execution_count": 58,
      "outputs": []
    },
    {
      "cell_type": "code",
      "source": [
        "alexnet_model.add(\n",
        "    tf.layers.Dense(\n",
        "        units = 4096, activation = 'relu'\n",
        "    )\n",
        ")"
      ],
      "metadata": {
        "id": "CWZZx9Q0c5Rq"
      },
      "execution_count": 59,
      "outputs": []
    },
    {
      "cell_type": "code",
      "source": [
        "alexnet_model.add(\n",
        "    tf.layers.Dense(\n",
        "        units = 1000, activation = 'softmax'\n",
        "    )\n",
        ")"
      ],
      "metadata": {
        "id": "is-q4UQoc7zN"
      },
      "execution_count": 60,
      "outputs": []
    },
    {
      "cell_type": "code",
      "source": [
        "alexnet_model.summary()"
      ],
      "metadata": {
        "colab": {
          "base_uri": "https://localhost:8080/"
        },
        "id": "eF-I2HZbc_ah",
        "outputId": "69750b63-93e6-44eb-b183-c3d917b69fac"
      },
      "execution_count": 61,
      "outputs": [
        {
          "output_type": "stream",
          "name": "stdout",
          "text": [
            "Model: \"sequential_3\"\n",
            "_________________________________________________________________\n",
            " Layer (type)                Output Shape              Param #   \n",
            "=================================================================\n",
            " conv2d_12 (Conv2D)          (None, 55, 55, 96)        34944     \n",
            "                                                                 \n",
            " max_pooling2d_6 (MaxPooling  (None, 27, 27, 96)       0         \n",
            " 2D)                                                             \n",
            "                                                                 \n",
            " dropout (Dropout)           (None, 27, 27, 96)        0         \n",
            "                                                                 \n",
            " conv2d_13 (Conv2D)          (None, 27, 27, 256)       614656    \n",
            "                                                                 \n",
            " max_pooling2d_7 (MaxPooling  (None, 13, 13, 256)      0         \n",
            " 2D)                                                             \n",
            "                                                                 \n",
            " dropout_1 (Dropout)         (None, 13, 13, 256)       0         \n",
            "                                                                 \n",
            " conv2d_14 (Conv2D)          (None, 13, 13, 384)       885120    \n",
            "                                                                 \n",
            " dropout_2 (Dropout)         (None, 13, 13, 384)       0         \n",
            "                                                                 \n",
            " conv2d_15 (Conv2D)          (None, 13, 13, 384)       1327488   \n",
            "                                                                 \n",
            " dropout_3 (Dropout)         (None, 13, 13, 384)       0         \n",
            "                                                                 \n",
            " conv2d_16 (Conv2D)          (None, 13, 13, 256)       884992    \n",
            "                                                                 \n",
            " max_pooling2d_8 (MaxPooling  (None, 6, 6, 256)        0         \n",
            " 2D)                                                             \n",
            "                                                                 \n",
            " flatten_2 (Flatten)         (None, 9216)              0         \n",
            "                                                                 \n",
            " dense_8 (Dense)             (None, 9216)              84943872  \n",
            "                                                                 \n",
            " dense_9 (Dense)             (None, 4096)              37752832  \n",
            "                                                                 \n",
            " dense_10 (Dense)            (None, 4096)              16781312  \n",
            "                                                                 \n",
            " dense_11 (Dense)            (None, 1000)              4097000   \n",
            "                                                                 \n",
            "=================================================================\n",
            "Total params: 147,322,216\n",
            "Trainable params: 147,322,216\n",
            "Non-trainable params: 0\n",
            "_________________________________________________________________\n"
          ]
        }
      ]
    },
    {
      "cell_type": "code",
      "source": [
        "alexnet_model.compile(loss = tf.losses.categorical_crossentropy, metrics = 'accuracy', optimizer = 'adam')"
      ],
      "metadata": {
        "id": "wqNDrH0dc_-a"
      },
      "execution_count": 62,
      "outputs": []
    },
    {
      "cell_type": "code",
      "source": [
        "from tf.applications.A"
      ],
      "metadata": {
        "id": "8GCU5z3wdAIL"
      },
      "execution_count": 62,
      "outputs": []
    }
  ]
}