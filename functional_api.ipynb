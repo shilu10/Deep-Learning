{
  "cells": [
    {
      "cell_type": "code",
      "execution_count": 1,
      "metadata": {
        "colab": {
          "base_uri": "https://localhost:8080/"
        },
        "id": "hwRZYLWn54-5",
        "outputId": "ee0fc9d9-8614-4661-8e3c-2e0cc8537098"
      },
      "outputs": [
        {
          "output_type": "stream",
          "name": "stdout",
          "text": [
            "Collecting tensorflow_addons\n",
            "  Downloading tensorflow_addons-0.16.1-cp37-cp37m-manylinux_2_12_x86_64.manylinux2010_x86_64.whl (1.1 MB)\n",
            "\u001b[?25l\r\u001b[K     |▎                               | 10 kB 24.2 MB/s eta 0:00:01\r\u001b[K     |▋                               | 20 kB 27.9 MB/s eta 0:00:01\r\u001b[K     |▉                               | 30 kB 29.7 MB/s eta 0:00:01\r\u001b[K     |█▏                              | 40 kB 26.2 MB/s eta 0:00:01\r\u001b[K     |█▌                              | 51 kB 19.3 MB/s eta 0:00:01\r\u001b[K     |█▊                              | 61 kB 21.5 MB/s eta 0:00:01\r\u001b[K     |██                              | 71 kB 23.0 MB/s eta 0:00:01\r\u001b[K     |██▍                             | 81 kB 25.1 MB/s eta 0:00:01\r\u001b[K     |██▋                             | 92 kB 27.3 MB/s eta 0:00:01\r\u001b[K     |███                             | 102 kB 25.2 MB/s eta 0:00:01\r\u001b[K     |███▏                            | 112 kB 25.2 MB/s eta 0:00:01\r\u001b[K     |███▌                            | 122 kB 25.2 MB/s eta 0:00:01\r\u001b[K     |███▉                            | 133 kB 25.2 MB/s eta 0:00:01\r\u001b[K     |████                            | 143 kB 25.2 MB/s eta 0:00:01\r\u001b[K     |████▍                           | 153 kB 25.2 MB/s eta 0:00:01\r\u001b[K     |████▊                           | 163 kB 25.2 MB/s eta 0:00:01\r\u001b[K     |█████                           | 174 kB 25.2 MB/s eta 0:00:01\r\u001b[K     |█████▎                          | 184 kB 25.2 MB/s eta 0:00:01\r\u001b[K     |█████▌                          | 194 kB 25.2 MB/s eta 0:00:01\r\u001b[K     |█████▉                          | 204 kB 25.2 MB/s eta 0:00:01\r\u001b[K     |██████▏                         | 215 kB 25.2 MB/s eta 0:00:01\r\u001b[K     |██████▍                         | 225 kB 25.2 MB/s eta 0:00:01\r\u001b[K     |██████▊                         | 235 kB 25.2 MB/s eta 0:00:01\r\u001b[K     |███████                         | 245 kB 25.2 MB/s eta 0:00:01\r\u001b[K     |███████▎                        | 256 kB 25.2 MB/s eta 0:00:01\r\u001b[K     |███████▋                        | 266 kB 25.2 MB/s eta 0:00:01\r\u001b[K     |███████▉                        | 276 kB 25.2 MB/s eta 0:00:01\r\u001b[K     |████████▏                       | 286 kB 25.2 MB/s eta 0:00:01\r\u001b[K     |████████▌                       | 296 kB 25.2 MB/s eta 0:00:01\r\u001b[K     |████████▊                       | 307 kB 25.2 MB/s eta 0:00:01\r\u001b[K     |█████████                       | 317 kB 25.2 MB/s eta 0:00:01\r\u001b[K     |█████████▍                      | 327 kB 25.2 MB/s eta 0:00:01\r\u001b[K     |█████████▋                      | 337 kB 25.2 MB/s eta 0:00:01\r\u001b[K     |██████████                      | 348 kB 25.2 MB/s eta 0:00:01\r\u001b[K     |██████████▏                     | 358 kB 25.2 MB/s eta 0:00:01\r\u001b[K     |██████████▌                     | 368 kB 25.2 MB/s eta 0:00:01\r\u001b[K     |██████████▉                     | 378 kB 25.2 MB/s eta 0:00:01\r\u001b[K     |███████████                     | 389 kB 25.2 MB/s eta 0:00:01\r\u001b[K     |███████████▍                    | 399 kB 25.2 MB/s eta 0:00:01\r\u001b[K     |███████████▊                    | 409 kB 25.2 MB/s eta 0:00:01\r\u001b[K     |████████████                    | 419 kB 25.2 MB/s eta 0:00:01\r\u001b[K     |████████████▎                   | 430 kB 25.2 MB/s eta 0:00:01\r\u001b[K     |████████████▌                   | 440 kB 25.2 MB/s eta 0:00:01\r\u001b[K     |████████████▉                   | 450 kB 25.2 MB/s eta 0:00:01\r\u001b[K     |█████████████▏                  | 460 kB 25.2 MB/s eta 0:00:01\r\u001b[K     |█████████████▍                  | 471 kB 25.2 MB/s eta 0:00:01\r\u001b[K     |█████████████▊                  | 481 kB 25.2 MB/s eta 0:00:01\r\u001b[K     |██████████████                  | 491 kB 25.2 MB/s eta 0:00:01\r\u001b[K     |██████████████▎                 | 501 kB 25.2 MB/s eta 0:00:01\r\u001b[K     |██████████████▋                 | 512 kB 25.2 MB/s eta 0:00:01\r\u001b[K     |██████████████▉                 | 522 kB 25.2 MB/s eta 0:00:01\r\u001b[K     |███████████████▏                | 532 kB 25.2 MB/s eta 0:00:01\r\u001b[K     |███████████████▌                | 542 kB 25.2 MB/s eta 0:00:01\r\u001b[K     |███████████████▊                | 552 kB 25.2 MB/s eta 0:00:01\r\u001b[K     |████████████████                | 563 kB 25.2 MB/s eta 0:00:01\r\u001b[K     |████████████████▍               | 573 kB 25.2 MB/s eta 0:00:01\r\u001b[K     |████████████████▋               | 583 kB 25.2 MB/s eta 0:00:01\r\u001b[K     |█████████████████               | 593 kB 25.2 MB/s eta 0:00:01\r\u001b[K     |█████████████████▏              | 604 kB 25.2 MB/s eta 0:00:01\r\u001b[K     |█████████████████▌              | 614 kB 25.2 MB/s eta 0:00:01\r\u001b[K     |█████████████████▉              | 624 kB 25.2 MB/s eta 0:00:01\r\u001b[K     |██████████████████              | 634 kB 25.2 MB/s eta 0:00:01\r\u001b[K     |██████████████████▍             | 645 kB 25.2 MB/s eta 0:00:01\r\u001b[K     |██████████████████▊             | 655 kB 25.2 MB/s eta 0:00:01\r\u001b[K     |███████████████████             | 665 kB 25.2 MB/s eta 0:00:01\r\u001b[K     |███████████████████▎            | 675 kB 25.2 MB/s eta 0:00:01\r\u001b[K     |███████████████████▌            | 686 kB 25.2 MB/s eta 0:00:01\r\u001b[K     |███████████████████▉            | 696 kB 25.2 MB/s eta 0:00:01\r\u001b[K     |████████████████████▏           | 706 kB 25.2 MB/s eta 0:00:01\r\u001b[K     |████████████████████▍           | 716 kB 25.2 MB/s eta 0:00:01\r\u001b[K     |████████████████████▊           | 727 kB 25.2 MB/s eta 0:00:01\r\u001b[K     |█████████████████████           | 737 kB 25.2 MB/s eta 0:00:01\r\u001b[K     |█████████████████████▎          | 747 kB 25.2 MB/s eta 0:00:01\r\u001b[K     |█████████████████████▋          | 757 kB 25.2 MB/s eta 0:00:01\r\u001b[K     |█████████████████████▉          | 768 kB 25.2 MB/s eta 0:00:01\r\u001b[K     |██████████████████████▏         | 778 kB 25.2 MB/s eta 0:00:01\r\u001b[K     |██████████████████████▌         | 788 kB 25.2 MB/s eta 0:00:01\r\u001b[K     |██████████████████████▊         | 798 kB 25.2 MB/s eta 0:00:01\r\u001b[K     |███████████████████████         | 808 kB 25.2 MB/s eta 0:00:01\r\u001b[K     |███████████████████████▍        | 819 kB 25.2 MB/s eta 0:00:01\r\u001b[K     |███████████████████████▋        | 829 kB 25.2 MB/s eta 0:00:01\r\u001b[K     |████████████████████████        | 839 kB 25.2 MB/s eta 0:00:01\r\u001b[K     |████████████████████████▏       | 849 kB 25.2 MB/s eta 0:00:01\r\u001b[K     |████████████████████████▌       | 860 kB 25.2 MB/s eta 0:00:01\r\u001b[K     |████████████████████████▉       | 870 kB 25.2 MB/s eta 0:00:01\r\u001b[K     |█████████████████████████       | 880 kB 25.2 MB/s eta 0:00:01\r\u001b[K     |█████████████████████████▍      | 890 kB 25.2 MB/s eta 0:00:01\r\u001b[K     |█████████████████████████▊      | 901 kB 25.2 MB/s eta 0:00:01\r\u001b[K     |██████████████████████████      | 911 kB 25.2 MB/s eta 0:00:01\r\u001b[K     |██████████████████████████▎     | 921 kB 25.2 MB/s eta 0:00:01\r\u001b[K     |██████████████████████████▌     | 931 kB 25.2 MB/s eta 0:00:01\r\u001b[K     |██████████████████████████▉     | 942 kB 25.2 MB/s eta 0:00:01\r\u001b[K     |███████████████████████████▏    | 952 kB 25.2 MB/s eta 0:00:01\r\u001b[K     |███████████████████████████▍    | 962 kB 25.2 MB/s eta 0:00:01\r\u001b[K     |███████████████████████████▊    | 972 kB 25.2 MB/s eta 0:00:01\r\u001b[K     |████████████████████████████    | 983 kB 25.2 MB/s eta 0:00:01\r\u001b[K     |████████████████████████████▎   | 993 kB 25.2 MB/s eta 0:00:01\r\u001b[K     |████████████████████████████▋   | 1.0 MB 25.2 MB/s eta 0:00:01\r\u001b[K     |████████████████████████████▉   | 1.0 MB 25.2 MB/s eta 0:00:01\r\u001b[K     |█████████████████████████████▏  | 1.0 MB 25.2 MB/s eta 0:00:01\r\u001b[K     |█████████████████████████████▌  | 1.0 MB 25.2 MB/s eta 0:00:01\r\u001b[K     |█████████████████████████████▊  | 1.0 MB 25.2 MB/s eta 0:00:01\r\u001b[K     |██████████████████████████████  | 1.1 MB 25.2 MB/s eta 0:00:01\r\u001b[K     |██████████████████████████████▍ | 1.1 MB 25.2 MB/s eta 0:00:01\r\u001b[K     |██████████████████████████████▋ | 1.1 MB 25.2 MB/s eta 0:00:01\r\u001b[K     |███████████████████████████████ | 1.1 MB 25.2 MB/s eta 0:00:01\r\u001b[K     |███████████████████████████████▏| 1.1 MB 25.2 MB/s eta 0:00:01\r\u001b[K     |███████████████████████████████▌| 1.1 MB 25.2 MB/s eta 0:00:01\r\u001b[K     |███████████████████████████████▉| 1.1 MB 25.2 MB/s eta 0:00:01\r\u001b[K     |████████████████████████████████| 1.1 MB 25.2 MB/s \n",
            "\u001b[?25hRequirement already satisfied: typeguard>=2.7 in /usr/local/lib/python3.7/dist-packages (from tensorflow_addons) (2.7.1)\n",
            "Installing collected packages: tensorflow-addons\n",
            "Successfully installed tensorflow-addons-0.16.1\n"
          ]
        }
      ],
      "source": [
        "import tensorflow.keras as tf \n",
        "import tensorflow as tf1\n",
        "import numpy as np \n",
        "import pandas as pd  \n",
        "import matplotlib.pyplot as plt \n",
        "!pip install tensorflow_addons \n",
        "import tensorflow_addons as tfa"
      ]
    },
    {
      "cell_type": "code",
      "execution_count": 5,
      "metadata": {
        "id": "lG1lXhCR6hhJ"
      },
      "outputs": [],
      "source": [
        "input_layer = tf.layers.Input(\n",
        "    #units = 12,\n",
        "    shape = (12, )\n",
        ")\n",
        "\n",
        "dense1 = tf.layers.Dense(\n",
        "    units = 100\n",
        ")(input_layer)\n",
        "\n",
        "output_layer1 = tf.layers.Dense(\n",
        "    units = 2\n",
        ")(dense1)\n",
        "\n",
        "output_layer2 = tf.layers.Dense(\n",
        "    units = 33\n",
        ")(dense1)"
      ]
    },
    {
      "cell_type": "code",
      "execution_count": 7,
      "metadata": {
        "id": "UXKV5ZIk6h9E"
      },
      "outputs": [],
      "source": [
        "model = tf.Model(\n",
        "    inputs = input_layer,\n",
        "    outputs = [output_layer1, output_layer2]\n",
        ")"
      ]
    },
    {
      "cell_type": "code",
      "execution_count": 8,
      "metadata": {
        "id": "l9V0Z-xq6iCS",
        "colab": {
          "base_uri": "https://localhost:8080/"
        },
        "outputId": "9d3fd776-0ca4-4f77-eb25-ca3705a1134a"
      },
      "outputs": [
        {
          "output_type": "stream",
          "name": "stdout",
          "text": [
            "Model: \"model\"\n",
            "__________________________________________________________________________________________________\n",
            " Layer (type)                   Output Shape         Param #     Connected to                     \n",
            "==================================================================================================\n",
            " input_2 (InputLayer)           [(None, 12)]         0           []                               \n",
            "                                                                                                  \n",
            " dense_3 (Dense)                (None, 100)          1300        ['input_2[0][0]']                \n",
            "                                                                                                  \n",
            " dense_4 (Dense)                (None, 2)            202         ['dense_3[0][0]']                \n",
            "                                                                                                  \n",
            " dense_5 (Dense)                (None, 33)           3333        ['dense_3[0][0]']                \n",
            "                                                                                                  \n",
            "==================================================================================================\n",
            "Total params: 4,835\n",
            "Trainable params: 4,835\n",
            "Non-trainable params: 0\n",
            "__________________________________________________________________________________________________\n"
          ]
        }
      ],
      "source": [
        "model.summary()"
      ]
    },
    {
      "cell_type": "code",
      "execution_count": 9,
      "metadata": {
        "id": "HSdVMHDW6iF3"
      },
      "outputs": [],
      "source": [
        "# converting a sequence model to functional api model\n",
        "\n",
        "seq_model = tf.Sequential(\n",
        "    [tf.layers.Dense(\n",
        "        input_shape = (12, ),\n",
        "        units = 10\n",
        "    ),\n",
        "    \n",
        "     tf.layers.Dense(\n",
        "         units = 100\n",
        "     ),\n",
        "\n",
        "     tf.layers.Dense(\n",
        "         units = 2\n",
        "     )\n",
        "    ]\n",
        "\n",
        ")\n"
      ]
    },
    {
      "cell_type": "code",
      "source": [
        "seq_model.summary()"
      ],
      "metadata": {
        "colab": {
          "base_uri": "https://localhost:8080/"
        },
        "id": "RpWivwpy1Lg9",
        "outputId": "ce296dd0-c01a-49f9-a1d3-f1267117ccd1"
      },
      "execution_count": 10,
      "outputs": [
        {
          "output_type": "stream",
          "name": "stdout",
          "text": [
            "Model: \"sequential\"\n",
            "_________________________________________________________________\n",
            " Layer (type)                Output Shape              Param #   \n",
            "=================================================================\n",
            " dense_6 (Dense)             (None, 10)                130       \n",
            "                                                                 \n",
            " dense_7 (Dense)             (None, 100)               1100      \n",
            "                                                                 \n",
            " dense_8 (Dense)             (None, 2)                 202       \n",
            "                                                                 \n",
            "=================================================================\n",
            "Total params: 1,432\n",
            "Trainable params: 1,432\n",
            "Non-trainable params: 0\n",
            "_________________________________________________________________\n"
          ]
        }
      ]
    },
    {
      "cell_type": "code",
      "source": [
        "input_layer = tf.layers.Input(shape = (12, ))\n",
        "hidden_layer = seq_model.layers[0](input_layer)\n",
        "\n",
        "for layer in seq_model.layers[2:-1] :\n",
        "  hidden_layer = layer(hidden_layer)\n"
      ],
      "metadata": {
        "id": "vKV01s8d1LoJ"
      },
      "execution_count": 18,
      "outputs": []
    },
    {
      "cell_type": "code",
      "source": [
        "new_model = tf.Model(\n",
        "    inputs = input_layer,\n",
        "    outputs = hidden_layer\n",
        ")"
      ],
      "metadata": {
        "id": "M-PgF8S_1Lsj"
      },
      "execution_count": 15,
      "outputs": []
    },
    {
      "cell_type": "code",
      "source": [
        "new_model.summary()"
      ],
      "metadata": {
        "colab": {
          "base_uri": "https://localhost:8080/"
        },
        "id": "wBtcr0Tl1L0M",
        "outputId": "d3bc4379-7553-4e5b-f8b4-cb8f93461365"
      },
      "execution_count": 16,
      "outputs": [
        {
          "output_type": "stream",
          "name": "stdout",
          "text": [
            "Model: \"model_1\"\n",
            "_________________________________________________________________\n",
            " Layer (type)                Output Shape              Param #   \n",
            "=================================================================\n",
            " input_5 (InputLayer)        [(None, 12)]              0         \n",
            "                                                                 \n",
            " dense_6 (Dense)             (None, 10)                130       \n",
            "                                                                 \n",
            "=================================================================\n",
            "Total params: 130\n",
            "Trainable params: 130\n",
            "Non-trainable params: 0\n",
            "_________________________________________________________________\n"
          ]
        }
      ]
    },
    {
      "cell_type": "code",
      "source": [
        "from tensorflow.keras.applications.vgg16 import VGG16 \n",
        "\n",
        "vgg_model = VGG16()"
      ],
      "metadata": {
        "colab": {
          "base_uri": "https://localhost:8080/"
        },
        "id": "9bsBW76a1L45",
        "outputId": "750aa219-6ec4-4d03-a10a-f4b05567e7fa"
      },
      "execution_count": 19,
      "outputs": [
        {
          "output_type": "stream",
          "name": "stdout",
          "text": [
            "Downloading data from https://storage.googleapis.com/tensorflow/keras-applications/vgg16/vgg16_weights_tf_dim_ordering_tf_kernels.h5\n",
            "553467904/553467096 [==============================] - 3s 0us/step\n",
            "553476096/553467096 [==============================] - 3s 0us/step\n"
          ]
        }
      ]
    },
    {
      "cell_type": "code",
      "execution_count": 20,
      "metadata": {
        "id": "b0j38ZAD6iKJ",
        "colab": {
          "base_uri": "https://localhost:8080/"
        },
        "outputId": "cb1a06ee-74e8-4b92-de6e-74eb15dbb63c"
      },
      "outputs": [
        {
          "output_type": "stream",
          "name": "stdout",
          "text": [
            "Model: \"vgg16\"\n",
            "_________________________________________________________________\n",
            " Layer (type)                Output Shape              Param #   \n",
            "=================================================================\n",
            " input_8 (InputLayer)        [(None, 224, 224, 3)]     0         \n",
            "                                                                 \n",
            " block1_conv1 (Conv2D)       (None, 224, 224, 64)      1792      \n",
            "                                                                 \n",
            " block1_conv2 (Conv2D)       (None, 224, 224, 64)      36928     \n",
            "                                                                 \n",
            " block1_pool (MaxPooling2D)  (None, 112, 112, 64)      0         \n",
            "                                                                 \n",
            " block2_conv1 (Conv2D)       (None, 112, 112, 128)     73856     \n",
            "                                                                 \n",
            " block2_conv2 (Conv2D)       (None, 112, 112, 128)     147584    \n",
            "                                                                 \n",
            " block2_pool (MaxPooling2D)  (None, 56, 56, 128)       0         \n",
            "                                                                 \n",
            " block3_conv1 (Conv2D)       (None, 56, 56, 256)       295168    \n",
            "                                                                 \n",
            " block3_conv2 (Conv2D)       (None, 56, 56, 256)       590080    \n",
            "                                                                 \n",
            " block3_conv3 (Conv2D)       (None, 56, 56, 256)       590080    \n",
            "                                                                 \n",
            " block3_pool (MaxPooling2D)  (None, 28, 28, 256)       0         \n",
            "                                                                 \n",
            " block4_conv1 (Conv2D)       (None, 28, 28, 512)       1180160   \n",
            "                                                                 \n",
            " block4_conv2 (Conv2D)       (None, 28, 28, 512)       2359808   \n",
            "                                                                 \n",
            " block4_conv3 (Conv2D)       (None, 28, 28, 512)       2359808   \n",
            "                                                                 \n",
            " block4_pool (MaxPooling2D)  (None, 14, 14, 512)       0         \n",
            "                                                                 \n",
            " block5_conv1 (Conv2D)       (None, 14, 14, 512)       2359808   \n",
            "                                                                 \n",
            " block5_conv2 (Conv2D)       (None, 14, 14, 512)       2359808   \n",
            "                                                                 \n",
            " block5_conv3 (Conv2D)       (None, 14, 14, 512)       2359808   \n",
            "                                                                 \n",
            " block5_pool (MaxPooling2D)  (None, 7, 7, 512)         0         \n",
            "                                                                 \n",
            " flatten (Flatten)           (None, 25088)             0         \n",
            "                                                                 \n",
            " fc1 (Dense)                 (None, 4096)              102764544 \n",
            "                                                                 \n",
            " fc2 (Dense)                 (None, 4096)              16781312  \n",
            "                                                                 \n",
            " predictions (Dense)         (None, 1000)              4097000   \n",
            "                                                                 \n",
            "=================================================================\n",
            "Total params: 138,357,544\n",
            "Trainable params: 138,357,544\n",
            "Non-trainable params: 0\n",
            "_________________________________________________________________\n"
          ]
        }
      ],
      "source": [
        "vgg_model.summary()"
      ]
    },
    {
      "cell_type": "code",
      "execution_count": 38,
      "metadata": {
        "id": "l65PKP5G6iO-"
      },
      "outputs": [],
      "source": [
        "# Transfer learning using the functional api method \n",
        "\n",
        "input_layer = vgg_model.inputs\n",
        "\n",
        "output_layer = vgg_model.layers[-2].output\n",
        "\n",
        "output_layer = tf.layers.Dense(\n",
        "    units = 10\n",
        ")(output_layer)"
      ]
    },
    {
      "cell_type": "code",
      "execution_count": 41,
      "metadata": {
        "id": "T5c7ENly6iSh",
        "colab": {
          "base_uri": "https://localhost:8080/"
        },
        "outputId": "77c9d997-fbd1-40af-a0b5-e06a43ff2904"
      },
      "outputs": [
        {
          "output_type": "stream",
          "name": "stdout",
          "text": [
            "Model: \"model_4\"\n",
            "_________________________________________________________________\n",
            " Layer (type)                Output Shape              Param #   \n",
            "=================================================================\n",
            " input_8 (InputLayer)        [(None, 224, 224, 3)]     0         \n",
            "                                                                 \n",
            " block1_conv1 (Conv2D)       (None, 224, 224, 64)      1792      \n",
            "                                                                 \n",
            " block1_conv2 (Conv2D)       (None, 224, 224, 64)      36928     \n",
            "                                                                 \n",
            " block1_pool (MaxPooling2D)  (None, 112, 112, 64)      0         \n",
            "                                                                 \n",
            " block2_conv1 (Conv2D)       (None, 112, 112, 128)     73856     \n",
            "                                                                 \n",
            " block2_conv2 (Conv2D)       (None, 112, 112, 128)     147584    \n",
            "                                                                 \n",
            " block2_pool (MaxPooling2D)  (None, 56, 56, 128)       0         \n",
            "                                                                 \n",
            " block3_conv1 (Conv2D)       (None, 56, 56, 256)       295168    \n",
            "                                                                 \n",
            " block3_conv2 (Conv2D)       (None, 56, 56, 256)       590080    \n",
            "                                                                 \n",
            " block3_conv3 (Conv2D)       (None, 56, 56, 256)       590080    \n",
            "                                                                 \n",
            " block3_pool (MaxPooling2D)  (None, 28, 28, 256)       0         \n",
            "                                                                 \n",
            " block4_conv1 (Conv2D)       (None, 28, 28, 512)       1180160   \n",
            "                                                                 \n",
            " block4_conv2 (Conv2D)       (None, 28, 28, 512)       2359808   \n",
            "                                                                 \n",
            " block4_conv3 (Conv2D)       (None, 28, 28, 512)       2359808   \n",
            "                                                                 \n",
            " block4_pool (MaxPooling2D)  (None, 14, 14, 512)       0         \n",
            "                                                                 \n",
            " block5_conv1 (Conv2D)       (None, 14, 14, 512)       2359808   \n",
            "                                                                 \n",
            " block5_conv2 (Conv2D)       (None, 14, 14, 512)       2359808   \n",
            "                                                                 \n",
            " block5_conv3 (Conv2D)       (None, 14, 14, 512)       2359808   \n",
            "                                                                 \n",
            " block5_pool (MaxPooling2D)  (None, 7, 7, 512)         0         \n",
            "                                                                 \n",
            " flatten (Flatten)           (None, 25088)             0         \n",
            "                                                                 \n",
            " fc1 (Dense)                 (None, 4096)              102764544 \n",
            "                                                                 \n",
            " fc2 (Dense)                 (None, 4096)              16781312  \n",
            "                                                                 \n",
            " dense_17 (Dense)            (None, 10)                40970     \n",
            "                                                                 \n",
            "=================================================================\n",
            "Total params: 134,301,514\n",
            "Trainable params: 134,301,514\n",
            "Non-trainable params: 0\n",
            "_________________________________________________________________\n"
          ]
        }
      ],
      "source": [
        "vgg_transfer_model = tf.Model(\n",
        "    input_layer, output_layer\n",
        "\n",
        ")\n",
        "\n",
        "vgg_transfer_model.summary()"
      ]
    },
    {
      "cell_type": "code",
      "execution_count": 36,
      "metadata": {
        "id": "5xSFhXt-6iXV",
        "colab": {
          "base_uri": "https://localhost:8080/"
        },
        "outputId": "88a5f4cc-e113-4dc0-b463-112fa6f89f2b"
      },
      "outputs": [
        {
          "output_type": "execute_result",
          "data": {
            "text/plain": [
              "<keras.layers.core.dense.Dense at 0x7f5c4b3c3bd0>"
            ]
          },
          "metadata": {},
          "execution_count": 36
        }
      ],
      "source": [
        ""
      ]
    },
    {
      "cell_type": "code",
      "execution_count": 40,
      "metadata": {
        "id": "-eXPTJ-X6ibR",
        "colab": {
          "base_uri": "https://localhost:8080/"
        },
        "outputId": "b4c52ff7-d9be-490c-fafa-c3a8644a916a"
      },
      "outputs": [
        {
          "output_type": "execute_result",
          "data": {
            "text/plain": [
              "<KerasTensor: shape=(None, 4096) dtype=float32 (created by layer 'fc2')>"
            ]
          },
          "metadata": {},
          "execution_count": 40
        }
      ],
      "source": [
        ""
      ]
    },
    {
      "cell_type": "code",
      "source": [
        ""
      ],
      "metadata": {
        "id": "pHfY332X7Pkt"
      },
      "execution_count": null,
      "outputs": []
    }
  ],
  "metadata": {
    "colab": {
      "name": "functional_api.ipynb",
      "provenance": []
    },
    "kernelspec": {
      "display_name": "Python 3",
      "name": "python3"
    },
    "language_info": {
      "name": "python"
    }
  },
  "nbformat": 4,
  "nbformat_minor": 0
}