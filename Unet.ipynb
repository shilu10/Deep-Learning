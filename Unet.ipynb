{
  "nbformat": 4,
  "nbformat_minor": 0,
  "metadata": {
    "colab": {
      "name": "Unet.ipynb",
      "provenance": [],
      "collapsed_sections": []
    },
    "kernelspec": {
      "name": "python3",
      "display_name": "Python 3"
    },
    "language_info": {
      "name": "python"
    },
    "accelerator": "GPU"
  },
  "cells": [
    {
      "cell_type": "code",
      "execution_count": null,
      "metadata": {
        "id": "iCnUVKiDHOos"
      },
      "outputs": [],
      "source": [
        "import tensorflow as tf \n",
        "import pandas as pd\n",
        "import cv2\n",
        "import matplotlib.pyplot"
      ]
    },
    {
      "cell_type": "code",
      "source": [
        "IMG_WIDTH = 128\n",
        "IMG_HEIGHT = 128\n",
        "IMG_CHANNELS = 3\n"
      ],
      "metadata": {
        "id": "gBI9easWHZQc"
      },
      "execution_count": null,
      "outputs": []
    },
    {
      "cell_type": "code",
      "source": [
        "inputs = tf.keras.layers.Input((IMG_WIDTH, IMG_HEIGHT, IMG_CHANNELS))"
      ],
      "metadata": {
        "id": "Q65pVIN-Ha8L"
      },
      "execution_count": null,
      "outputs": []
    },
    {
      "cell_type": "code",
      "source": [
        "s = tf.keras.layers.Lambda(lambda x: x / 255)(inputs)"
      ],
      "metadata": {
        "id": "35eCpcCCHbAL"
      },
      "execution_count": null,
      "outputs": []
    },
    {
      "cell_type": "code",
      "source": [
        "c1 = tf.keras.layers.Conv2D(16, (3, 3), activation='relu', kernel_initializer='he_normal', padding='same')(s)\n",
        "c1 = tf.keras.layers.Dropout(0.1)(c1)\n",
        "c1 = tf.keras.layers.Conv2D(16, (3, 3), activation='relu', kernel_initializer='he_normal', padding='same')(c1)\n",
        "p1 = tf.keras.layers.MaxPooling2D((2, 2))(c1)\n",
        "\n",
        "c2 = tf.keras.layers.Conv2D(32, (3, 3), activation='relu', kernel_initializer='he_normal', padding='same')(p1)\n",
        "c2 = tf.keras.layers.Dropout(0.1)(c2)\n",
        "c2 = tf.keras.layers.Conv2D(32, (3, 3), activation='relu', kernel_initializer='he_normal', padding='same')(c2)\n",
        "p2 = tf.keras.layers.MaxPooling2D((2, 2))(c2)\n",
        " \n",
        "c3 = tf.keras.layers.Conv2D(64, (3, 3), activation='relu', kernel_initializer='he_normal', padding='same')(p2)\n",
        "c3 = tf.keras.layers.Dropout(0.2)(c3)\n",
        "c3 = tf.keras.layers.Conv2D(64, (3, 3), activation='relu', kernel_initializer='he_normal', padding='same')(c3)\n",
        "p3 = tf.keras.layers.MaxPooling2D((2, 2))(c3)\n",
        " \n",
        "c4 = tf.keras.layers.Conv2D(128, (3, 3), activation='relu', kernel_initializer='he_normal', padding='same')(p3)\n",
        "c4 = tf.keras.layers.Dropout(0.2)(c4)\n",
        "c4 = tf.keras.layers.Conv2D(128, (3, 3), activation='relu', kernel_initializer='he_normal', padding='same')(c4)\n",
        "p4 = tf.keras.layers.MaxPooling2D(pool_size=(2, 2))(c4)\n",
        " \n",
        "c5 = tf.keras.layers.Conv2D(256, (3, 3), activation='relu', kernel_initializer='he_normal', padding='same')(p4)\n",
        "c5 = tf.keras.layers.Dropout(0.3)(c5)\n",
        "c5 = tf.keras.layers.Conv2D(256, (3, 3), activation='relu', kernel_initializer='he_normal', padding='same')(c5)\n",
        "\n",
        "#Expansive path \n",
        "u6 = tf.keras.layers.Conv2DTranspose(128, (2, 2), strides=(2, 2), padding='same')(c5)\n",
        "u6 = tf.keras.layers.concatenate([u6, c4])\n",
        "c6 = tf.keras.layers.Conv2D(128, (3, 3), activation='relu', kernel_initializer='he_normal', padding='same')(u6)\n",
        "c6 = tf.keras.layers.Dropout(0.2)(c6)\n",
        "c6 = tf.keras.layers.Conv2D(128, (3, 3), activation='relu', kernel_initializer='he_normal', padding='same')(c6)\n",
        " \n",
        "u7 = tf.keras.layers.Conv2DTranspose(64, (2, 2), strides=(2, 2), padding='same')(c6)\n",
        "u7 = tf.keras.layers.concatenate([u7, c3])\n",
        "c7 = tf.keras.layers.Conv2D(64, (3, 3), activation='relu', kernel_initializer='he_normal', padding='same')(u7)\n",
        "c7 = tf.keras.layers.Dropout(0.2)(c7)\n",
        "c7 = tf.keras.layers.Conv2D(64, (3, 3), activation='relu', kernel_initializer='he_normal', padding='same')(c7)\n",
        " \n",
        "u8 = tf.keras.layers.Conv2DTranspose(32, (2, 2), strides=(2, 2), padding='same')(c7)\n",
        "u8 = tf.keras.layers.concatenate([u8, c2])\n",
        "c8 = tf.keras.layers.Conv2D(32, (3, 3), activation='relu', kernel_initializer='he_normal', padding='same')(u8)\n",
        "c8 = tf.keras.layers.Dropout(0.1)(c8)\n",
        "c8 = tf.keras.layers.Conv2D(32, (3, 3), activation='relu', kernel_initializer='he_normal', padding='same')(c8)\n",
        " \n",
        "u9 = tf.keras.layers.Conv2DTranspose(16, (2, 2), strides=(2, 2), padding='same')(c8)\n",
        "u9 = tf.keras.layers.concatenate([u9, c1], axis=3)\n",
        "c9 = tf.keras.layers.Conv2D(16, (3, 3), activation='relu', kernel_initializer='he_normal', padding='same')(u9)\n",
        "c9 = tf.keras.layers.Dropout(0.1)(c9)\n",
        "c9 = tf.keras.layers.Conv2D(16, (3, 3), activation='relu', kernel_initializer='he_normal', padding='same')(c9)\n",
        " \n",
        "outputs = tf.keras.layers.Conv2D(1, (1, 1), activation='sigmoid')(c9)\n",
        " \n",
        "model = tf.keras.Model(inputs=[inputs], outputs=[outputs])\n",
        "model.compile(optimizer='adam', loss='binary_crossentropy', metrics=['accuracy'])\n",
        "model.summary()"
      ],
      "metadata": {
        "colab": {
          "base_uri": "https://localhost:8080/"
        },
        "id": "00GqhdBdHbEy",
        "outputId": "2477e7f8-7142-40cb-f64d-9d9b10207caa"
      },
      "execution_count": null,
      "outputs": [
        {
          "output_type": "stream",
          "name": "stdout",
          "text": [
            "Model: \"model_8\"\n",
            "__________________________________________________________________________________________________\n",
            " Layer (type)                   Output Shape         Param #     Connected to                     \n",
            "==================================================================================================\n",
            " input_3 (InputLayer)           [(None, 128, 128, 3  0           []                               \n",
            "                                )]                                                                \n",
            "                                                                                                  \n",
            " lambda_2 (Lambda)              (None, 128, 128, 3)  0           ['input_3[0][0]']                \n",
            "                                                                                                  \n",
            " conv2d_166 (Conv2D)            (None, 128, 128, 16  448         ['lambda_2[0][0]']               \n",
            "                                )                                                                 \n",
            "                                                                                                  \n",
            " dropout_78 (Dropout)           (None, 128, 128, 16  0           ['conv2d_166[0][0]']             \n",
            "                                )                                                                 \n",
            "                                                                                                  \n",
            " conv2d_167 (Conv2D)            (None, 128, 128, 16  2320        ['dropout_78[0][0]']             \n",
            "                                )                                                                 \n",
            "                                                                                                  \n",
            " max_pooling2d_60 (MaxPooling2D  (None, 64, 64, 16)  0           ['conv2d_167[0][0]']             \n",
            " )                                                                                                \n",
            "                                                                                                  \n",
            " conv2d_168 (Conv2D)            (None, 64, 64, 32)   4640        ['max_pooling2d_60[0][0]']       \n",
            "                                                                                                  \n",
            " dropout_79 (Dropout)           (None, 64, 64, 32)   0           ['conv2d_168[0][0]']             \n",
            "                                                                                                  \n",
            " conv2d_169 (Conv2D)            (None, 64, 64, 32)   9248        ['dropout_79[0][0]']             \n",
            "                                                                                                  \n",
            " max_pooling2d_61 (MaxPooling2D  (None, 32, 32, 32)  0           ['conv2d_169[0][0]']             \n",
            " )                                                                                                \n",
            "                                                                                                  \n",
            " conv2d_170 (Conv2D)            (None, 32, 32, 64)   18496       ['max_pooling2d_61[0][0]']       \n",
            "                                                                                                  \n",
            " dropout_80 (Dropout)           (None, 32, 32, 64)   0           ['conv2d_170[0][0]']             \n",
            "                                                                                                  \n",
            " conv2d_171 (Conv2D)            (None, 32, 32, 64)   36928       ['dropout_80[0][0]']             \n",
            "                                                                                                  \n",
            " max_pooling2d_62 (MaxPooling2D  (None, 16, 16, 64)  0           ['conv2d_171[0][0]']             \n",
            " )                                                                                                \n",
            "                                                                                                  \n",
            " conv2d_172 (Conv2D)            (None, 16, 16, 128)  73856       ['max_pooling2d_62[0][0]']       \n",
            "                                                                                                  \n",
            " dropout_81 (Dropout)           (None, 16, 16, 128)  0           ['conv2d_172[0][0]']             \n",
            "                                                                                                  \n",
            " conv2d_173 (Conv2D)            (None, 16, 16, 128)  147584      ['dropout_81[0][0]']             \n",
            "                                                                                                  \n",
            " max_pooling2d_63 (MaxPooling2D  (None, 8, 8, 128)   0           ['conv2d_173[0][0]']             \n",
            " )                                                                                                \n",
            "                                                                                                  \n",
            " conv2d_174 (Conv2D)            (None, 8, 8, 256)    295168      ['max_pooling2d_63[0][0]']       \n",
            "                                                                                                  \n",
            " dropout_82 (Dropout)           (None, 8, 8, 256)    0           ['conv2d_174[0][0]']             \n",
            "                                                                                                  \n",
            " conv2d_175 (Conv2D)            (None, 8, 8, 256)    590080      ['dropout_82[0][0]']             \n",
            "                                                                                                  \n",
            " conv2d_transpose_13 (Conv2DTra  (None, 16, 16, 128)  131200     ['conv2d_175[0][0]']             \n",
            " nspose)                                                                                          \n",
            "                                                                                                  \n",
            " concatenate_13 (Concatenate)   (None, 16, 16, 256)  0           ['conv2d_transpose_13[0][0]',    \n",
            "                                                                  'conv2d_173[0][0]']             \n",
            "                                                                                                  \n",
            " conv2d_176 (Conv2D)            (None, 16, 16, 128)  295040      ['concatenate_13[0][0]']         \n",
            "                                                                                                  \n",
            " dropout_83 (Dropout)           (None, 16, 16, 128)  0           ['conv2d_176[0][0]']             \n",
            "                                                                                                  \n",
            " conv2d_177 (Conv2D)            (None, 16, 16, 128)  147584      ['dropout_83[0][0]']             \n",
            "                                                                                                  \n",
            " conv2d_transpose_14 (Conv2DTra  (None, 32, 32, 64)  32832       ['conv2d_177[0][0]']             \n",
            " nspose)                                                                                          \n",
            "                                                                                                  \n",
            " concatenate_14 (Concatenate)   (None, 32, 32, 128)  0           ['conv2d_transpose_14[0][0]',    \n",
            "                                                                  'conv2d_171[0][0]']             \n",
            "                                                                                                  \n",
            " conv2d_178 (Conv2D)            (None, 32, 32, 64)   73792       ['concatenate_14[0][0]']         \n",
            "                                                                                                  \n",
            " dropout_84 (Dropout)           (None, 32, 32, 64)   0           ['conv2d_178[0][0]']             \n",
            "                                                                                                  \n",
            " conv2d_179 (Conv2D)            (None, 32, 32, 64)   36928       ['dropout_84[0][0]']             \n",
            "                                                                                                  \n",
            " conv2d_transpose_15 (Conv2DTra  (None, 64, 64, 32)  8224        ['conv2d_179[0][0]']             \n",
            " nspose)                                                                                          \n",
            "                                                                                                  \n",
            " concatenate_15 (Concatenate)   (None, 64, 64, 64)   0           ['conv2d_transpose_15[0][0]',    \n",
            "                                                                  'conv2d_169[0][0]']             \n",
            "                                                                                                  \n",
            " conv2d_180 (Conv2D)            (None, 64, 64, 32)   18464       ['concatenate_15[0][0]']         \n",
            "                                                                                                  \n",
            " dropout_85 (Dropout)           (None, 64, 64, 32)   0           ['conv2d_180[0][0]']             \n",
            "                                                                                                  \n",
            " conv2d_181 (Conv2D)            (None, 64, 64, 32)   9248        ['dropout_85[0][0]']             \n",
            "                                                                                                  \n",
            " conv2d_transpose_16 (Conv2DTra  (None, 128, 128, 16  2064       ['conv2d_181[0][0]']             \n",
            " nspose)                        )                                                                 \n",
            "                                                                                                  \n",
            " concatenate_16 (Concatenate)   (None, 128, 128, 32  0           ['conv2d_transpose_16[0][0]',    \n",
            "                                )                                 'conv2d_167[0][0]']             \n",
            "                                                                                                  \n",
            " conv2d_182 (Conv2D)            (None, 128, 128, 16  4624        ['concatenate_16[0][0]']         \n",
            "                                )                                                                 \n",
            "                                                                                                  \n",
            " dropout_86 (Dropout)           (None, 128, 128, 16  0           ['conv2d_182[0][0]']             \n",
            "                                )                                                                 \n",
            "                                                                                                  \n",
            " conv2d_183 (Conv2D)            (None, 128, 128, 16  2320        ['dropout_86[0][0]']             \n",
            "                                )                                                                 \n",
            "                                                                                                  \n",
            " conv2d_184 (Conv2D)            (None, 128, 128, 1)  17          ['conv2d_183[0][0]']             \n",
            "                                                                                                  \n",
            "==================================================================================================\n",
            "Total params: 1,941,105\n",
            "Trainable params: 1,941,105\n",
            "Non-trainable params: 0\n",
            "__________________________________________________________________________________________________\n"
          ]
        }
      ]
    },
    {
      "cell_type": "code",
      "source": [
        "model.fit(X, y, callbacks = [])"
      ],
      "metadata": {
        "colab": {
          "base_uri": "https://localhost:8080/",
          "height": 168
        },
        "id": "dy6aILm9HbJe",
        "outputId": "90169756-e99a-498e-d1ba-6e444b6dea9b"
      },
      "execution_count": null,
      "outputs": [
        {
          "output_type": "error",
          "ename": "NameError",
          "evalue": "ignored",
          "traceback": [
            "\u001b[0;31m---------------------------------------------------------------------------\u001b[0m",
            "\u001b[0;31mNameError\u001b[0m                                 Traceback (most recent call last)",
            "\u001b[0;32m<ipython-input-59-07373976135a>\u001b[0m in \u001b[0;36m<module>\u001b[0;34m()\u001b[0m\n\u001b[0;32m----> 1\u001b[0;31m \u001b[0mmodel\u001b[0m\u001b[0;34m.\u001b[0m\u001b[0mfit\u001b[0m\u001b[0;34m(\u001b[0m\u001b[0mX\u001b[0m\u001b[0;34m,\u001b[0m \u001b[0my\u001b[0m\u001b[0;34m,\u001b[0m \u001b[0mcallbacks\u001b[0m \u001b[0;34m=\u001b[0m \u001b[0;34m[\u001b[0m\u001b[0;34m]\u001b[0m\u001b[0;34m)\u001b[0m\u001b[0;34m\u001b[0m\u001b[0;34m\u001b[0m\u001b[0m\n\u001b[0m",
            "\u001b[0;31mNameError\u001b[0m: name 'X' is not defined"
          ]
        }
      ]
    },
    {
      "cell_type": "code",
      "source": [
        ""
      ],
      "metadata": {
        "id": "YxiRtEHjKYUj"
      },
      "execution_count": null,
      "outputs": []
    },
    {
      "cell_type": "code",
      "source": [
        ""
      ],
      "metadata": {
        "id": "F8X2jXoJKYcS"
      },
      "execution_count": null,
      "outputs": []
    },
    {
      "cell_type": "code",
      "source": [
        ""
      ],
      "metadata": {
        "id": "3BSB85JUKTxu"
      },
      "execution_count": null,
      "outputs": []
    },
    {
      "cell_type": "code",
      "source": [
        ""
      ],
      "metadata": {
        "id": "wkhj5Rw6Kak4"
      },
      "execution_count": null,
      "outputs": []
    },
    {
      "cell_type": "code",
      "source": [
        ""
      ],
      "metadata": {
        "id": "KSg2lLWYKaon"
      },
      "execution_count": null,
      "outputs": []
    },
    {
      "cell_type": "code",
      "source": [
        ""
      ],
      "metadata": {
        "id": "y5xdX0vCKT4n"
      },
      "execution_count": null,
      "outputs": []
    },
    {
      "cell_type": "code",
      "source": [
        ""
      ],
      "metadata": {
        "id": "iClSTzmIKHMg"
      },
      "execution_count": null,
      "outputs": []
    },
    {
      "cell_type": "code",
      "source": [
        ""
      ],
      "metadata": {
        "id": "CIt51Up4KRcT"
      },
      "execution_count": null,
      "outputs": []
    },
    {
      "cell_type": "code",
      "source": [
        ""
      ],
      "metadata": {
        "id": "ENzJLNaHKRg-"
      },
      "execution_count": null,
      "outputs": []
    },
    {
      "cell_type": "code",
      "source": [
        ""
      ],
      "metadata": {
        "id": "1tJKvcNOKRoF"
      },
      "execution_count": null,
      "outputs": []
    },
    {
      "cell_type": "code",
      "source": [
        ""
      ],
      "metadata": {
        "id": "2TpoA9ehKPhH"
      },
      "execution_count": null,
      "outputs": []
    },
    {
      "cell_type": "code",
      "source": [
        ""
      ],
      "metadata": {
        "id": "vhUrN0A4KP1d"
      },
      "execution_count": null,
      "outputs": []
    },
    {
      "cell_type": "code",
      "source": [
        ""
      ],
      "metadata": {
        "id": "TAxI74z0KHUi"
      },
      "execution_count": null,
      "outputs": []
    },
    {
      "cell_type": "code",
      "source": [
        ""
      ],
      "metadata": {
        "id": "Vax4kkh0KHb7"
      },
      "execution_count": null,
      "outputs": []
    },
    {
      "cell_type": "code",
      "source": [
        ""
      ],
      "metadata": {
        "id": "D4A5CU-pKHfc"
      },
      "execution_count": null,
      "outputs": []
    },
    {
      "cell_type": "code",
      "source": [
        ""
      ],
      "metadata": {
        "id": "ax_28eSOKIGf"
      },
      "execution_count": null,
      "outputs": []
    },
    {
      "cell_type": "code",
      "source": [
        ""
      ],
      "metadata": {
        "id": "rdVxIOjgKIM1"
      },
      "execution_count": null,
      "outputs": []
    },
    {
      "cell_type": "code",
      "source": [
        ""
      ],
      "metadata": {
        "id": "BNKHivttKIQr"
      },
      "execution_count": null,
      "outputs": []
    },
    {
      "cell_type": "code",
      "source": [
        ""
      ],
      "metadata": {
        "id": "kmNtc7-FKIYj"
      },
      "execution_count": null,
      "outputs": []
    },
    {
      "cell_type": "code",
      "source": [
        ""
      ],
      "metadata": {
        "id": "LpHjNYnmIvgS"
      },
      "execution_count": null,
      "outputs": []
    },
    {
      "cell_type": "code",
      "source": [
        ""
      ],
      "metadata": {
        "id": "3d9IBb0kIvl2"
      },
      "execution_count": null,
      "outputs": []
    },
    {
      "cell_type": "code",
      "source": [
        ""
      ],
      "metadata": {
        "id": "ifKH97ZNIvr5"
      },
      "execution_count": null,
      "outputs": []
    },
    {
      "cell_type": "code",
      "source": [
        ""
      ],
      "metadata": {
        "id": "-uQInEP5Ivwb"
      },
      "execution_count": null,
      "outputs": []
    },
    {
      "cell_type": "code",
      "source": [
        ""
      ],
      "metadata": {
        "id": "pKqt9eoFIv7g"
      },
      "execution_count": null,
      "outputs": []
    },
    {
      "cell_type": "code",
      "source": [
        ""
      ],
      "metadata": {
        "id": "QyyiweuSHbOZ"
      },
      "execution_count": null,
      "outputs": []
    },
    {
      "cell_type": "code",
      "source": [
        ""
      ],
      "metadata": {
        "id": "WPV6A2KXHbTL"
      },
      "execution_count": null,
      "outputs": []
    }
  ]
}