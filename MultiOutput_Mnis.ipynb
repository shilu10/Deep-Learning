{
  "nbformat": 4,
  "nbformat_minor": 0,
  "metadata": {
    "colab": {
      "name": "MultiOutput_Mnis.ipynb",
      "provenance": []
    },
    "kernelspec": {
      "name": "python3",
      "display_name": "Python 3"
    },
    "language_info": {
      "name": "python"
    }
  },
  "cells": [
    {
      "cell_type": "code",
      "execution_count": 1,
      "metadata": {
        "id": "2kXm7Xz98hjM"
      },
      "outputs": [],
      "source": [
        "import tensorflow.keras as tf \n",
        "import tensorflow as tf1 \n",
        "import numpy as np \n",
        "import matplotlib.pyplot as plt  "
      ]
    },
    {
      "cell_type": "code",
      "source": [
        "# From the MNIST dataset, we are going to create a another output prediction column, whether it is written by left handed or right handed person\n",
        "# so, using this dummy dataset, we can practice the multi-output prediction"
      ],
      "metadata": {
        "id": "3i69bj2e-e8Y"
      },
      "execution_count": 2,
      "outputs": []
    },
    {
      "cell_type": "code",
      "source": [
        "(x_train, y_train), (x_test, y_test) = tf.datasets.mnist.load_data()"
      ],
      "metadata": {
        "id": "wJzgR1Lz-fTW"
      },
      "execution_count": 11,
      "outputs": []
    },
    {
      "cell_type": "code",
      "source": [
        "y_train1 = np.zeros(shape = len(y_train))\n",
        "y_test1 = np.zeros(shape = len(y_test))"
      ],
      "metadata": {
        "id": "gHlKI7Bp-fYm"
      },
      "execution_count": 12,
      "outputs": []
    },
    {
      "cell_type": "code",
      "source": [
        "# y_train1 -----> 0--left-handed, 1-- right-handed\n",
        "\n",
        "for idx, val in enumerate(y_train) :\n",
        "# we are just saying that, if vimage is greateer than 4 then give a 1, which is right handed\n",
        "  if val > 4 :\n",
        "    y_train1[idx] = 1 "
      ],
      "metadata": {
        "id": "2IO4O_kU-fd6"
      },
      "execution_count": 13,
      "outputs": []
    },
    {
      "cell_type": "code",
      "source": [
        "y_train1"
      ],
      "metadata": {
        "colab": {
          "base_uri": "https://localhost:8080/"
        },
        "id": "bl1ysN_u-fin",
        "outputId": "041e299c-5b0f-4d93-b732-e19cd53bc8d6"
      },
      "execution_count": 15,
      "outputs": [
        {
          "output_type": "execute_result",
          "data": {
            "text/plain": [
              "array([1., 0., 0., ..., 1., 1., 1.])"
            ]
          },
          "metadata": {},
          "execution_count": 15
        }
      ]
    },
    {
      "cell_type": "code",
      "source": [
        "# y_train --- is for the digit classification(output1) that our model will classify and y_train1 ------ is for the left handed or right handed \n",
        "# which is created as dummy data"
      ],
      "metadata": {
        "id": "9mLV1u9M-fmb"
      },
      "execution_count": null,
      "outputs": []
    },
    {
      "cell_type": "code",
      "source": [
        "# model building \n",
        "\n",
        "input_layer = tf.layers.Input(\n",
        "    shape = (28, 28)\n",
        ")\n",
        "\n",
        "hidden_layer1 = tf.layers.Conv1D(\n",
        "    filters = 64,\n",
        "    kernel_size = 5,\n",
        "    activation = 'relu'\n",
        ")(input_layer)\n",
        "\n",
        "\n",
        "hidden_layer2 = tf.layers.Flatten()(hidden_layer1)\n",
        "\n",
        "hidden_layer3 = tf.layers.Dense(\n",
        "    units = 100,\n",
        "    activation = 'relu'\n",
        ")(hidden_layer2)\n",
        "\n",
        "output1 = tf.layers.Dense(\n",
        "    units = 10, \n",
        "    activation = 'softmax',\n",
        "    name = 'digit_classification_output'\n",
        ")(hidden_layer3)\n",
        "\n",
        "output2 = tf.layers.Dense(\n",
        "    units = 2, \n",
        "    activation = 'softmax',\n",
        "    name = 'leftright'\n",
        ")(hidden_layer3)\n",
        "\n",
        "\n",
        "model = tf.Model(\n",
        "    inputs = input_layer,\n",
        "    outputs = [output1, output2]\n",
        ")\n",
        "\n",
        "# For the losses we need to specify a dictionary of loss for each of the outputs\n",
        "\n",
        "loss1 = tf.losses.sparse_categorical_crossentropy\n",
        "loss2 = tf.losses.sparse_categorical_crossentropy\n",
        "\n",
        "# dict = {\n",
        "  # 'outputlayer_name : lossfucntion associated with it   \n",
        "#}\n",
        "losses = {\n",
        "    'digit_classification_output' : loss1,\n",
        "    'leftright' : loss2\n",
        "}\n",
        "\n",
        "model.compile(\n",
        "    loss = losses,\n",
        "    optimizer = 'adam',\n",
        "    metrics = 'accuracy'\n",
        ")"
      ],
      "metadata": {
        "id": "_HZysB2AA28S"
      },
      "execution_count": 20,
      "outputs": []
    },
    {
      "cell_type": "code",
      "source": [
        "# for the y labels also we need to create a dictionary like we created for the loss function \n",
        "\n",
        "\n",
        "y_labels = {\n",
        "    'digit_classification_output' : y_train,\n",
        "    'leftright' : y_train1\n",
        "}\n",
        "\n",
        "# fitting the model\n",
        "\n",
        "history = model.fit(\n",
        "    x_train, y_labels, epochs = 3\n",
        ")"
      ],
      "metadata": {
        "colab": {
          "base_uri": "https://localhost:8080/"
        },
        "id": "XUCmxoeeA3Cq",
        "outputId": "bdbdecdf-9170-4c1c-cf37-9b11556fcac3"
      },
      "execution_count": 21,
      "outputs": [
        {
          "output_type": "stream",
          "name": "stdout",
          "text": [
            "Epoch 1/3\n",
            "1875/1875 [==============================] - 12s 6ms/step - loss: 1.3311 - digit_classification_output_loss: 0.9139 - leftright_loss: 0.4172 - digit_classification_output_accuracy: 0.8556 - leftright_accuracy: 0.9268\n",
            "Epoch 2/3\n",
            "1875/1875 [==============================] - 11s 6ms/step - loss: 0.2537 - digit_classification_output_loss: 0.1843 - leftright_loss: 0.0694 - digit_classification_output_accuracy: 0.9537 - leftright_accuracy: 0.9757\n",
            "Epoch 3/3\n",
            "1875/1875 [==============================] - 11s 6ms/step - loss: 0.1592 - digit_classification_output_loss: 0.1130 - leftright_loss: 0.0463 - digit_classification_output_accuracy: 0.9694 - leftright_accuracy: 0.9839\n"
          ]
        }
      ]
    },
    {
      "cell_type": "code",
      "source": [
        "y_pred = model.predict(x_test)\n",
        "\n",
        "# First index of the matrix is the output of different outputs\n",
        "print(y_pred[0][0])\n",
        "print(y_pred[1][0])     \n"
      ],
      "metadata": {
        "colab": {
          "base_uri": "https://localhost:8080/"
        },
        "id": "8f9l7PFMA3JM",
        "outputId": "b22138c7-05b9-46d1-a2aa-6e0d0889512e"
      },
      "execution_count": 33,
      "outputs": [
        {
          "output_type": "stream",
          "name": "stdout",
          "text": [
            "[8.7253121e-13 3.2777584e-07 2.4644264e-06 1.8416925e-08 9.6346708e-10\n",
            " 4.1164404e-16 1.2798318e-19 9.9999607e-01 4.4713490e-11 1.0622185e-06]\n",
            "[1.7901404e-05 9.9998212e-01]\n"
          ]
        }
      ]
    },
    {
      "cell_type": "code",
      "source": [
        "# so the answer is 7, and the prediction also gives 7 and it says as a right-handed which is also correct\n",
        "plt.imshow(x_test[0])"
      ],
      "metadata": {
        "colab": {
          "base_uri": "https://localhost:8080/",
          "height": 282
        },
        "id": "fsFGoZ-uA3PD",
        "outputId": "c8a492f9-9078-40e2-a57e-4fbc915631d2"
      },
      "execution_count": 35,
      "outputs": [
        {
          "output_type": "execute_result",
          "data": {
            "text/plain": [
              "<matplotlib.image.AxesImage at 0x7f9f200203d0>"
            ]
          },
          "metadata": {},
          "execution_count": 35
        },
        {
          "output_type": "display_data",
          "data": {
            "text/plain": [
              "<Figure size 432x288 with 1 Axes>"
            ],
            "image/png": "[encoded data removed]"
          },
          "metadata": {
            "needs_background": "light"
          }
        }
      ]
    },
    {
      "cell_type": "code",
      "source": [
        "w"
      ],
      "metadata": {
        "id": "kUMEFm_h-fqz"
      },
      "execution_count": null,
      "outputs": []
    }
  ]
}