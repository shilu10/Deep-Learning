{
  "nbformat": 4,
  "nbformat_minor": 0,
  "metadata": {
    "colab": {
      "name": "Untitled23.ipynb",
      "provenance": [],
      "collapsed_sections": []
    },
    "kernelspec": {
      "name": "python3",
      "display_name": "Python 3"
    },
    "language_info": {
      "name": "python"
    }
  },
  "cells": [
    {
      "cell_type": "code",
      "execution_count": 1,
      "metadata": {
        "id": "5yOLLr0xVz87"
      },
      "outputs": [],
      "source": [
        "import tensorflow.keras as tf\n",
        "import pandas as pd \n",
        "import numpy as np \n",
        "import matplotlib.pyplot as plt\n",
        "import seaborn as sns \n",
        "import tensorflow as tf1"
      ]
    },
    {
      "cell_type": "code",
      "source": [
        "import os \n",
        "import cv2 \n",
        "\n",
        "X = [ ]\n",
        "y = [ ]\n",
        "\n",
        "y_dict = { \n",
        "    \n",
        "}\n",
        "SIZE = 124\n",
        "y_counter = 0\n",
        "for folder in os.scandir('/content/drive/MyDrive/images') :\n",
        "  print(folder.path)\n",
        "  name = folder.path.split('/')[-1]\n",
        "  image_counter = 0\n",
        "  \n",
        "  for image in os.scandir(folder.path):\n",
        "    image = image.path\n",
        "    if image_counter == 100 :\n",
        "      break\n",
        "    if image is not None :\n",
        "      img = cv2.imread(image)\n",
        "      if img is not None :\n",
        "        img = cv2.resize(img,(SIZE, SIZE))\n",
        "        X.append(img)\n",
        "        image_counter += 1\n",
        "        y.append(y_counter)\n",
        "  y_dict[name] = y_counter\n",
        "  y_counter += 1\n",
        "\n"
      ],
      "metadata": {
        "colab": {
          "base_uri": "https://localhost:8080/"
        },
        "id": "Ctkj2M_VV2XS",
        "outputId": "41451fe7-dc40-4fbc-dfd4-90a798f2a273"
      },
      "execution_count": 7,
      "outputs": [
        {
          "output_type": "stream",
          "name": "stdout",
          "text": [
            "/content/drive/MyDrive/images/lebron_james\n",
            "/content/drive/MyDrive/images/lionel_messi\n",
            "/content/drive/MyDrive/images/sachin_ramesh_tendulkar\n",
            "/content/drive/MyDrive/images/virat_kohli\n",
            "/content/drive/MyDrive/images/cristiano_ronaldo\n",
            "/content/drive/MyDrive/images/neymar_jr\n"
          ]
        }
      ]
    },
    {
      "cell_type": "code",
      "source": [
        "X = np.array(X)"
      ],
      "metadata": {
        "id": "suXZWZiYV2bu"
      },
      "execution_count": 11,
      "outputs": []
    },
    {
      "cell_type": "code",
      "source": [
        "y = np.array(y)"
      ],
      "metadata": {
        "id": "teNZHiE4V2iF"
      },
      "execution_count": 12,
      "outputs": []
    },
    {
      "cell_type": "code",
      "source": [
        "from sklearn.model_selection import train_test_split \n",
        "x_train, x_test, y_train, y_test = train_test_split(X, y, random_state = 42)"
      ],
      "metadata": {
        "id": "KGLqXHQXV2qS"
      },
      "execution_count": 50,
      "outputs": []
    },
    {
      "cell_type": "code",
      "source": [
        ""
      ],
      "metadata": {
        "id": "7GRD-k6Nihok"
      },
      "execution_count": null,
      "outputs": []
    },
    {
      "cell_type": "code",
      "source": [
        "print(f\"Number of Training data :{len(x_train)}\")\n",
        "print(f\"Number of Testing data :{len(x_test)}\")"
      ],
      "metadata": {
        "colab": {
          "base_uri": "https://localhost:8080/"
        },
        "id": "NABFufylV2uf",
        "outputId": "65df4362-9c70-4d11-b862-1c603f2a9021"
      },
      "execution_count": 15,
      "outputs": [
        {
          "output_type": "stream",
          "name": "stdout",
          "text": [
            "Number of Training data :450\n",
            "Number of Testing data :150\n"
          ]
        }
      ]
    },
    {
      "cell_type": "code",
      "source": [
        "y_train = pd.get_dummies(y_train)\n",
        "y_test = pd.get_dummies(y_test)"
      ],
      "metadata": {
        "id": "jd3CdzXWX5N4"
      },
      "execution_count": 16,
      "outputs": []
    },
    {
      "cell_type": "code",
      "source": [
        "## Creating a Deep Neural Network \n",
        "model = tf.Sequential(\n",
        "    \n",
        ")\n",
        "\n",
        "model.add(tf.layers.Conv2D(kernel_size = (5, 5), activation = 'relu', input_shape = (124, 124, 3), padding = 'same', filters = 10))\n",
        "model.add(tf.layers.BatchNormalization())\n",
        "model.add(tf.layers.MaxPooling2D(pool_size = (3, 3)))\n",
        "model.add(tf.layers.Dropout(rate = 0.4))\n",
        "model.add(tf.layers.Conv2D(kernel_size = (5, 5), activation = 'relu', input_shape = (124, 124, 3), padding = 'same' , filters = 10))\n",
        "model.add(tf.layers.BatchNormalization())\n",
        "model.add(tf.layers.MaxPooling2D(pool_size = (3, 3)))\n",
        "model.add(tf.layers.Flatten())"
      ],
      "metadata": {
        "id": "YpmCHycRX-u_"
      },
      "execution_count": 36,
      "outputs": []
    },
    {
      "cell_type": "code",
      "source": [
        "# Returns the ouput from the sequential deep model\n",
        "\n",
        "model.output"
      ],
      "metadata": {
        "colab": {
          "base_uri": "https://localhost:8080/"
        },
        "id": "JxkXxbGdX-0P",
        "outputId": "1e7b2659-25d7-4c49-faf0-27ba338726f8"
      },
      "execution_count": 37,
      "outputs": [
        {
          "output_type": "execute_result",
          "data": {
            "text/plain": [
              "<KerasTensor: shape=(None, 1690) dtype=float32 (created by layer 'flatten_1')>"
            ]
          },
          "metadata": {},
          "execution_count": 37
        }
      ]
    },
    {
      "cell_type": "code",
      "source": [
        "## The above architecture will be common for both the cnn and as well as a cnn with ml"
      ],
      "metadata": {
        "id": "twhhuntlX-5l"
      },
      "execution_count": 27,
      "outputs": []
    },
    {
      "cell_type": "code",
      "source": [
        "# Creating a Dense Layer\n",
        "Dense_layer = model.output\n",
        "Dense_layer = tf.layers.Dense(100, activation = 'relu', kernel_initializer = 'he_uniform')(Dense_layer)\n",
        "output_layer = tf.layers.Dense(6, activation = 'softmax')(Dense_layer)"
      ],
      "metadata": {
        "id": "MJTrYeZLX-_6"
      },
      "execution_count": 38,
      "outputs": []
    },
    {
      "cell_type": "code",
      "source": [
        "# model.input gives the input shape or input layer of the sequential model\n",
        "cnn_model = tf.Model(inputs = model.input, outputs = output_layer)\n",
        "cnn_model.compile(loss = 'categorical_crossentropy', metrics = 'accuracy', optimizer = 'adam')"
      ],
      "metadata": {
        "id": "3m_rhW0UX_I_"
      },
      "execution_count": 39,
      "outputs": []
    },
    {
      "cell_type": "code",
      "source": [
        "cnn_model.summary()"
      ],
      "metadata": {
        "colab": {
          "base_uri": "https://localhost:8080/"
        },
        "id": "Qodf90PcX_RG",
        "outputId": "521e7407-d2e8-4314-be01-931f976e12b5"
      },
      "execution_count": 31,
      "outputs": [
        {
          "output_type": "stream",
          "name": "stdout",
          "text": [
            "Model: \"model\"\n",
            "_________________________________________________________________\n",
            " Layer (type)                Output Shape              Param #   \n",
            "=================================================================\n",
            " input_1 (InputLayer)        [(None, 100)]             0         \n",
            "                                                                 \n",
            " dense_2 (Dense)             (None, 6)                 606       \n",
            "                                                                 \n",
            "=================================================================\n",
            "Total params: 606\n",
            "Trainable params: 606\n",
            "Non-trainable params: 0\n",
            "_________________________________________________________________\n"
          ]
        }
      ]
    },
    {
      "cell_type": "code",
      "source": [
        "history = cnn_model.fit(x_train, y_train, epochs = 50, validation_data = (x_test, y_test))"
      ],
      "metadata": {
        "colab": {
          "base_uri": "https://localhost:8080/"
        },
        "id": "wKWD1njBV2zl",
        "outputId": "d497d631-6566-466d-d5fe-7f7a8d0f9a3a"
      },
      "execution_count": 40,
      "outputs": [
        {
          "output_type": "stream",
          "name": "stdout",
          "text": [
            "Epoch 1/50\n",
            "15/15 [==============================] - 9s 539ms/step - loss: 3.3032 - accuracy: 0.2489 - val_loss: 5.1137 - val_accuracy: 0.2800\n",
            "Epoch 2/50\n",
            "15/15 [==============================] - 7s 496ms/step - loss: 1.6007 - accuracy: 0.4267 - val_loss: 2.9890 - val_accuracy: 0.2800\n",
            "Epoch 3/50\n",
            "15/15 [==============================] - 7s 498ms/step - loss: 1.3032 - accuracy: 0.5156 - val_loss: 4.0968 - val_accuracy: 0.2400\n",
            "Epoch 4/50\n",
            "15/15 [==============================] - 7s 492ms/step - loss: 1.1545 - accuracy: 0.5911 - val_loss: 2.1435 - val_accuracy: 0.4200\n",
            "Epoch 5/50\n",
            "15/15 [==============================] - 7s 490ms/step - loss: 0.9637 - accuracy: 0.6689 - val_loss: 2.4704 - val_accuracy: 0.3467\n",
            "Epoch 6/50\n",
            "15/15 [==============================] - 7s 488ms/step - loss: 0.8100 - accuracy: 0.7356 - val_loss: 2.1643 - val_accuracy: 0.4067\n",
            "Epoch 7/50\n",
            "15/15 [==============================] - 7s 491ms/step - loss: 0.6778 - accuracy: 0.7533 - val_loss: 2.0617 - val_accuracy: 0.4200\n",
            "Epoch 8/50\n",
            "15/15 [==============================] - 7s 487ms/step - loss: 0.5795 - accuracy: 0.7889 - val_loss: 2.0215 - val_accuracy: 0.4600\n",
            "Epoch 9/50\n",
            "15/15 [==============================] - 7s 490ms/step - loss: 0.4250 - accuracy: 0.8778 - val_loss: 2.1392 - val_accuracy: 0.4533\n",
            "Epoch 10/50\n",
            "15/15 [==============================] - 7s 487ms/step - loss: 0.3330 - accuracy: 0.9089 - val_loss: 2.1700 - val_accuracy: 0.4400\n",
            "Epoch 11/50\n",
            "15/15 [==============================] - 7s 488ms/step - loss: 0.3061 - accuracy: 0.9200 - val_loss: 2.3025 - val_accuracy: 0.3867\n",
            "Epoch 12/50\n",
            "15/15 [==============================] - 7s 489ms/step - loss: 0.3400 - accuracy: 0.9000 - val_loss: 2.2810 - val_accuracy: 0.4067\n",
            "Epoch 13/50\n",
            "15/15 [==============================] - 7s 489ms/step - loss: 0.2847 - accuracy: 0.9133 - val_loss: 2.2126 - val_accuracy: 0.4400\n",
            "Epoch 14/50\n",
            "15/15 [==============================] - 7s 492ms/step - loss: 0.1969 - accuracy: 0.9644 - val_loss: 2.4532 - val_accuracy: 0.4067\n",
            "Epoch 15/50\n",
            "15/15 [==============================] - 8s 507ms/step - loss: 0.1389 - accuracy: 0.9667 - val_loss: 2.3183 - val_accuracy: 0.4333\n",
            "Epoch 16/50\n",
            "15/15 [==============================] - 7s 498ms/step - loss: 0.1072 - accuracy: 0.9800 - val_loss: 2.4742 - val_accuracy: 0.4133\n",
            "Epoch 17/50\n",
            "15/15 [==============================] - 8s 530ms/step - loss: 0.1043 - accuracy: 0.9844 - val_loss: 2.4725 - val_accuracy: 0.4200\n",
            "Epoch 18/50\n",
            "15/15 [==============================] - 7s 492ms/step - loss: 0.1052 - accuracy: 0.9822 - val_loss: 2.6418 - val_accuracy: 0.3867\n",
            "Epoch 19/50\n",
            "15/15 [==============================] - 7s 491ms/step - loss: 0.0645 - accuracy: 0.9889 - val_loss: 2.4553 - val_accuracy: 0.4400\n",
            "Epoch 20/50\n",
            "15/15 [==============================] - 7s 490ms/step - loss: 0.0545 - accuracy: 0.9978 - val_loss: 2.5023 - val_accuracy: 0.4133\n",
            "Epoch 21/50\n",
            "15/15 [==============================] - 7s 492ms/step - loss: 0.0343 - accuracy: 1.0000 - val_loss: 2.4829 - val_accuracy: 0.4133\n",
            "Epoch 22/50\n",
            "15/15 [==============================] - 7s 491ms/step - loss: 0.0280 - accuracy: 1.0000 - val_loss: 2.5282 - val_accuracy: 0.4067\n",
            "Epoch 23/50\n",
            "15/15 [==============================] - 7s 494ms/step - loss: 0.0261 - accuracy: 1.0000 - val_loss: 2.5784 - val_accuracy: 0.4000\n",
            "Epoch 24/50\n",
            "15/15 [==============================] - 7s 490ms/step - loss: 0.0270 - accuracy: 0.9978 - val_loss: 2.4724 - val_accuracy: 0.4333\n",
            "Epoch 25/50\n",
            "15/15 [==============================] - 7s 492ms/step - loss: 0.0236 - accuracy: 0.9978 - val_loss: 2.4649 - val_accuracy: 0.4200\n",
            "Epoch 26/50\n",
            "15/15 [==============================] - 7s 489ms/step - loss: 0.0196 - accuracy: 1.0000 - val_loss: 2.5859 - val_accuracy: 0.4000\n",
            "Epoch 27/50\n",
            "15/15 [==============================] - 7s 494ms/step - loss: 0.0144 - accuracy: 1.0000 - val_loss: 2.6495 - val_accuracy: 0.3867\n",
            "Epoch 28/50\n",
            "15/15 [==============================] - 7s 493ms/step - loss: 0.0129 - accuracy: 1.0000 - val_loss: 2.6013 - val_accuracy: 0.3800\n",
            "Epoch 29/50\n",
            "15/15 [==============================] - 7s 494ms/step - loss: 0.0135 - accuracy: 1.0000 - val_loss: 2.5898 - val_accuracy: 0.4067\n",
            "Epoch 30/50\n",
            "15/15 [==============================] - 7s 492ms/step - loss: 0.0134 - accuracy: 1.0000 - val_loss: 2.6338 - val_accuracy: 0.4067\n",
            "Epoch 31/50\n",
            "15/15 [==============================] - 7s 499ms/step - loss: 0.0141 - accuracy: 1.0000 - val_loss: 2.6713 - val_accuracy: 0.3867\n",
            "Epoch 32/50\n",
            "15/15 [==============================] - 7s 496ms/step - loss: 0.0145 - accuracy: 1.0000 - val_loss: 2.7503 - val_accuracy: 0.3933\n",
            "Epoch 33/50\n",
            "15/15 [==============================] - 7s 489ms/step - loss: 0.0362 - accuracy: 0.9956 - val_loss: 3.0064 - val_accuracy: 0.3933\n",
            "Epoch 34/50\n",
            "15/15 [==============================] - 7s 492ms/step - loss: 0.0412 - accuracy: 0.9911 - val_loss: 2.8097 - val_accuracy: 0.4467\n",
            "Epoch 35/50\n",
            "15/15 [==============================] - 7s 494ms/step - loss: 0.0258 - accuracy: 0.9978 - val_loss: 2.7716 - val_accuracy: 0.4200\n",
            "Epoch 36/50\n",
            "15/15 [==============================] - 7s 495ms/step - loss: 0.0182 - accuracy: 0.9978 - val_loss: 2.6702 - val_accuracy: 0.4333\n",
            "Epoch 37/50\n",
            "15/15 [==============================] - 7s 495ms/step - loss: 0.0118 - accuracy: 1.0000 - val_loss: 2.7660 - val_accuracy: 0.4200\n",
            "Epoch 38/50\n",
            "15/15 [==============================] - 7s 497ms/step - loss: 0.0121 - accuracy: 0.9978 - val_loss: 2.7512 - val_accuracy: 0.4133\n",
            "Epoch 39/50\n",
            "15/15 [==============================] - 8s 507ms/step - loss: 0.0121 - accuracy: 0.9978 - val_loss: 2.9532 - val_accuracy: 0.4400\n",
            "Epoch 40/50\n",
            "15/15 [==============================] - 7s 495ms/step - loss: 0.0264 - accuracy: 0.9933 - val_loss: 2.8589 - val_accuracy: 0.4667\n",
            "Epoch 41/50\n",
            "15/15 [==============================] - 7s 495ms/step - loss: 0.1657 - accuracy: 0.9489 - val_loss: 3.2684 - val_accuracy: 0.4000\n",
            "Epoch 42/50\n",
            "15/15 [==============================] - 7s 494ms/step - loss: 0.1578 - accuracy: 0.9511 - val_loss: 2.9521 - val_accuracy: 0.3267\n",
            "Epoch 43/50\n",
            "15/15 [==============================] - 7s 494ms/step - loss: 0.0811 - accuracy: 0.9689 - val_loss: 2.9743 - val_accuracy: 0.3867\n",
            "Epoch 44/50\n",
            "15/15 [==============================] - 7s 493ms/step - loss: 0.0495 - accuracy: 0.9933 - val_loss: 3.0707 - val_accuracy: 0.4200\n",
            "Epoch 45/50\n",
            "15/15 [==============================] - 7s 500ms/step - loss: 0.0462 - accuracy: 0.9867 - val_loss: 3.6185 - val_accuracy: 0.3733\n",
            "Epoch 46/50\n",
            "15/15 [==============================] - 7s 497ms/step - loss: 0.0410 - accuracy: 0.9844 - val_loss: 3.4238 - val_accuracy: 0.3867\n",
            "Epoch 47/50\n",
            "15/15 [==============================] - 7s 494ms/step - loss: 0.0236 - accuracy: 0.9978 - val_loss: 3.2994 - val_accuracy: 0.4000\n",
            "Epoch 48/50\n",
            "15/15 [==============================] - 7s 496ms/step - loss: 0.0197 - accuracy: 0.9956 - val_loss: 3.5272 - val_accuracy: 0.3600\n",
            "Epoch 49/50\n",
            "15/15 [==============================] - 7s 491ms/step - loss: 0.0197 - accuracy: 0.9956 - val_loss: 3.2578 - val_accuracy: 0.3867\n",
            "Epoch 50/50\n",
            "15/15 [==============================] - 7s 489ms/step - loss: 0.0320 - accuracy: 0.9844 - val_loss: 3.5693 - val_accuracy: 0.3933\n"
          ]
        }
      ]
    },
    {
      "cell_type": "code",
      "source": [
        "train_loss = history.history['loss']\n",
        "val_loss = history.history['val_loss']\n",
        "train_acc = history.history['accuracy']\n",
        "val_acc = history.history['val_accuracy']"
      ],
      "metadata": {
        "id": "SBEvW--hV230"
      },
      "execution_count": 41,
      "outputs": []
    },
    {
      "cell_type": "code",
      "source": [
        "plt.figure(figsize = (14, 10))\n",
        "Epochs = range(1, 51)\n",
        "plt.plot(train_loss, label = 'Training Loss')\n",
        "plt.plot(val_loss, label = \"Testing Loss\")\n",
        "plt.xlabel('Epochs')\n",
        "plt.ylabel('Loss')\n",
        "plt.title('Loss of the model')\n",
        "plt.legend()\n",
        "plt.show()"
      ],
      "metadata": {
        "colab": {
          "base_uri": "https://localhost:8080/",
          "height": 621
        },
        "id": "97mbiyTrV28I",
        "outputId": "f275b882-919e-429e-849a-5a20d49806a5"
      },
      "execution_count": 42,
      "outputs": [
        {
          "output_type": "display_data",
          "data": {
            "text/plain": [
              "<Figure size 1008x720 with 1 Axes>"
            ],
            "image/png": "[encoded data removed]"
          },
          "metadata": {
            "needs_background": "light"
          }
        }
      ]
    },
    {
      "cell_type": "code",
      "source": [
        "plt.figure(figsize = (14, 10))\n",
        "Epochs = range(1, 51)\n",
        "plt.plot(train_acc, label = 'Training Accuracy')\n",
        "plt.plot(val_acc, label = \"Testing Accuracy\")\n",
        "plt.xlabel('Epochs')\n",
        "plt.ylabel('Accuracy')\n",
        "plt.title('Accuracy of the model')\n",
        "plt.legend()\n",
        "plt.show()"
      ],
      "metadata": {
        "colab": {
          "base_uri": "https://localhost:8080/",
          "height": 621
        },
        "id": "56vR08b0V3D9",
        "outputId": "1ca41924-cfad-4500-b7e1-39d064c2a8bc"
      },
      "execution_count": 43,
      "outputs": [
        {
          "output_type": "display_data",
          "data": {
            "text/plain": [
              "<Figure size 1008x720 with 1 Axes>"
            ],
            "image/png": "[encoded data removed]"
          },
          "metadata": {
            "needs_background": "light"
          }
        }
      ]
    },
    {
      "cell_type": "code",
      "source": [
        "## Using a Random Forest with CN"
      ],
      "metadata": {
        "id": "YylypxYkV3Kn"
      },
      "execution_count": 44,
      "outputs": []
    },
    {
      "cell_type": "code",
      "source": [
        "from sklearn.preprocessing import LabelEncoder\n",
        "le = LabelEncoder()\n",
        "y_train, y_test = le.fit_transform(y_train), le.fit_transform(y_test)"
      ],
      "metadata": {
        "id": "5V-u_zH8ikWN"
      },
      "execution_count": 51,
      "outputs": []
    },
    {
      "cell_type": "code",
      "source": [
        "xtrain_for_RF = model.predict(x_train) \n",
        "xtest_for_RF = model.predict(x_test)"
      ],
      "metadata": {
        "id": "7g8I0yjzgzW-"
      },
      "execution_count": 45,
      "outputs": []
    },
    {
      "cell_type": "code",
      "source": [
        "from sklearn.ensemble import RandomForestClassifier\n",
        "rf = RandomForestClassifier(n_estimators = 35, random_state = 42)"
      ],
      "metadata": {
        "id": "B0enj4IVgzjB"
      },
      "execution_count": 48,
      "outputs": []
    },
    {
      "cell_type": "code",
      "source": [
        "rf.fit(xtrain_for_RF, y_train)"
      ],
      "metadata": {
        "colab": {
          "base_uri": "https://localhost:8080/"
        },
        "id": "NBEdwUoggzpI",
        "outputId": "6d64f9a8-8887-4837-ced9-871a0b014e80"
      },
      "execution_count": 52,
      "outputs": [
        {
          "output_type": "execute_result",
          "data": {
            "text/plain": [
              "RandomForestClassifier(n_estimators=35, random_state=42)"
            ]
          },
          "metadata": {},
          "execution_count": 52
        }
      ]
    },
    {
      "cell_type": "code",
      "source": [
        "y_pred = rf.predict(xtest_for_RF)"
      ],
      "metadata": {
        "id": "l2vgNuG5gzvl"
      },
      "execution_count": 54,
      "outputs": []
    },
    {
      "cell_type": "code",
      "source": [
        "y_pred"
      ],
      "metadata": {
        "colab": {
          "base_uri": "https://localhost:8080/"
        },
        "id": "WHIFA36dgzz2",
        "outputId": "5db5f483-d112-4c1d-c995-e2816f82620e"
      },
      "execution_count": 55,
      "outputs": [
        {
          "output_type": "execute_result",
          "data": {
            "text/plain": [
              "array([1, 2, 1, 0, 1, 3, 5, 4, 0, 3, 0, 1, 5, 1, 2, 2, 2, 5, 1, 5, 0, 5,\n",
              "       3, 5, 5, 3, 0, 2, 5, 3, 5, 1, 0, 2, 2, 1, 2, 2, 4, 2, 2, 0, 1, 5,\n",
              "       4, 3, 1, 0, 0, 4, 3, 4, 1, 5, 0, 3, 2, 1, 4, 2, 2, 1, 3, 3, 1, 4,\n",
              "       1, 1, 5, 2, 3, 0, 1, 2, 0, 4, 5, 1, 2, 4, 3, 4, 0, 5, 0, 0, 2, 1,\n",
              "       3, 1, 5, 5, 0, 3, 2, 2, 2, 0, 4, 5, 5, 2, 0, 3, 0, 0, 2, 2, 2, 4,\n",
              "       4, 4, 2, 1, 5, 5, 2, 4, 4, 0, 2, 0, 4, 1, 4, 1, 2, 2, 2, 2, 0, 0,\n",
              "       1, 1, 2, 4, 0, 4, 3, 3, 0, 2, 3, 4, 2, 1, 1, 4, 0, 0])"
            ]
          },
          "metadata": {},
          "execution_count": 55
        }
      ]
    },
    {
      "cell_type": "code",
      "source": [
        "from sklearn.metrics import confusion_matrix, classification_report, accuracy_score"
      ],
      "metadata": {
        "id": "8uawf2ZBgz4J"
      },
      "execution_count": 57,
      "outputs": []
    },
    {
      "cell_type": "code",
      "source": [
        "confusion_matrix(y_test, y_pred)"
      ],
      "metadata": {
        "colab": {
          "base_uri": "https://localhost:8080/"
        },
        "id": "sZsau_f6g0N4",
        "outputId": "f633770f-3c47-4511-e192-ff2f76b244d5"
      },
      "execution_count": 58,
      "outputs": [
        {
          "output_type": "execute_result",
          "data": {
            "text/plain": [
              "array([[20,  0,  2,  1,  4,  5],\n",
              "       [ 1, 12,  7,  2,  5,  1],\n",
              "       [ 0,  3, 12,  4,  1,  2],\n",
              "       [ 0,  1,  5,  7,  1,  5],\n",
              "       [ 3,  3,  4,  1, 10,  0],\n",
              "       [ 4,  8,  5,  3,  1,  7]])"
            ]
          },
          "metadata": {},
          "execution_count": 58
        }
      ]
    },
    {
      "cell_type": "code",
      "source": [
        "accuracy_score(y_test, y_pred)"
      ],
      "metadata": {
        "colab": {
          "base_uri": "https://localhost:8080/"
        },
        "id": "UF2gN_9cg0ZS",
        "outputId": "8f97652d-7a41-42c6-9def-1e2b75b509c1"
      },
      "execution_count": 59,
      "outputs": [
        {
          "output_type": "execute_result",
          "data": {
            "text/plain": [
              "0.4533333333333333"
            ]
          },
          "metadata": {},
          "execution_count": 59
        }
      ]
    },
    {
      "cell_type": "code",
      "source": [
        ""
      ],
      "metadata": {
        "id": "yksi_GerV3QW"
      },
      "execution_count": null,
      "outputs": []
    },
    {
      "cell_type": "code",
      "source": [
        ""
      ],
      "metadata": {
        "id": "XGBErqxIV3Us"
      },
      "execution_count": null,
      "outputs": []
    },
    {
      "cell_type": "code",
      "source": [
        ""
      ],
      "metadata": {
        "id": "TirOgQ8VV3Zr"
      },
      "execution_count": null,
      "outputs": []
    },
    {
      "cell_type": "code",
      "source": [
        ""
      ],
      "metadata": {
        "id": "345fc6BMV3eg"
      },
      "execution_count": null,
      "outputs": []
    }
  ]
}
