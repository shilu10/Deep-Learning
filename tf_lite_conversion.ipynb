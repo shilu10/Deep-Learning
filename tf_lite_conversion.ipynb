{
  "nbformat": 4,
  "nbformat_minor": 0,
  "metadata": {
    "colab": {
      "name": "tf-lite_conversion.ipynb",
      "provenance": []
    },
    "kernelspec": {
      "name": "python3",
      "display_name": "Python 3"
    },
    "language_info": {
      "name": "python"
    }
  },
  "cells": [
    {
      "cell_type": "code",
      "execution_count": 116,
      "metadata": {
        "id": "nZbeZmN4N5J4"
      },
      "outputs": [],
      "source": [
        "import tensorflow.keras as tf \n",
        "import tensorflow as tf1"
      ]
    },
    {
      "cell_type": "markdown",
      "source": [
        "Lenet is the first Neural Network model to be implemented for the Computer Vision task, but it is useful for the grayscale images. It is used for the bank system to identify the handwritten digits. "
      ],
      "metadata": {
        "id": "KJc-obF5QzvT"
      }
    },
    {
      "cell_type": "code",
      "source": [
        "# Architecture of LeNet"
      ],
      "metadata": {
        "id": "v7z4CpW3OEOo"
      },
      "execution_count": 117,
      "outputs": []
    },
    {
      "cell_type": "code",
      "source": [
        "lenet_model = tf.Sequential()"
      ],
      "metadata": {
        "id": "ornY5F_pOSTw"
      },
      "execution_count": 118,
      "outputs": []
    },
    {
      "cell_type": "code",
      "source": [
        "lenet_model.add(\n",
        "    tf.layers.Input(shape = (28, 28, 1))\n",
        ")"
      ],
      "metadata": {
        "id": "hybvvItVOWLN"
      },
      "execution_count": 119,
      "outputs": []
    },
    {
      "cell_type": "code",
      "source": [
        "lenet_model.add(\n",
        "    tf.layers.Conv2D(\n",
        "        kernel_size = (5, 5), strides = (1, 1), activation = 'relu', filters = 6\n",
        "    )\n",
        ")"
      ],
      "metadata": {
        "id": "wWPoHEcjO57q"
      },
      "execution_count": 120,
      "outputs": []
    },
    {
      "cell_type": "code",
      "source": [
        "lenet_model.add(\n",
        "    tf.layers.AveragePooling2D(pool_size = (2, 2), strides = (2, 2))\n",
        ")"
      ],
      "metadata": {
        "id": "C8Lq9UUsPWmT"
      },
      "execution_count": 121,
      "outputs": []
    },
    {
      "cell_type": "code",
      "source": [
        "lenet_model.add(\n",
        "    tf.layers.Conv2D(\n",
        "        kernel_size = (5, 5), strides = (1, 1), activation = 'relu', filters = 16\n",
        "    )\n",
        ")"
      ],
      "metadata": {
        "id": "fSZLg1zLPLBF"
      },
      "execution_count": 122,
      "outputs": []
    },
    {
      "cell_type": "code",
      "source": [
        "lenet_model.add(\n",
        "    tf.layers.AveragePooling2D(pool_size = (2, 2), strides = (2, 2))\n",
        ")"
      ],
      "metadata": {
        "id": "AkLxkXufPU-z"
      },
      "execution_count": 123,
      "outputs": []
    },
    {
      "cell_type": "code",
      "source": [
        "lenet_model.add(\n",
        "    tf.layers.Flatten()\n",
        ")"
      ],
      "metadata": {
        "id": "oLQ0YUjePVPd"
      },
      "execution_count": 124,
      "outputs": []
    },
    {
      "cell_type": "code",
      "source": [
        "lenet_model.add(\n",
        "    tf.layers.Dense(units = 120, activation = 'relu')\n",
        ")"
      ],
      "metadata": {
        "id": "TTocLT2WPVb2"
      },
      "execution_count": 125,
      "outputs": []
    },
    {
      "cell_type": "code",
      "source": [
        "lenet_model.add(\n",
        "    tf.layers.Dense(units = 84, activation = 'relu')\n",
        ")"
      ],
      "metadata": {
        "id": "-8sdMcedPVlJ"
      },
      "execution_count": 126,
      "outputs": []
    },
    {
      "cell_type": "code",
      "source": [
        "lenet_model.add(\n",
        "    tf.layers.Dense(units = 10,)\n",
        ")"
      ],
      "metadata": {
        "id": "CnzccPRePVvA"
      },
      "execution_count": 127,
      "outputs": []
    },
    {
      "cell_type": "code",
      "source": [
        "lenet_model.summary()"
      ],
      "metadata": {
        "colab": {
          "base_uri": "https://localhost:8080/"
        },
        "id": "gQ_JMfcsQWZc",
        "outputId": "ce1c0a30-c602-444a-bf2f-fd2225400c7c"
      },
      "execution_count": 128,
      "outputs": [
        {
          "output_type": "stream",
          "name": "stdout",
          "text": [
            "Model: \"sequential_4\"\n",
            "_________________________________________________________________\n",
            " Layer (type)                Output Shape              Param #   \n",
            "=================================================================\n",
            " conv2d_15 (Conv2D)          (None, 24, 24, 6)         156       \n",
            "                                                                 \n",
            " average_pooling2d_8 (Averag  (None, 12, 12, 6)        0         \n",
            " ePooling2D)                                                     \n",
            "                                                                 \n",
            " conv2d_16 (Conv2D)          (None, 8, 8, 16)          2416      \n",
            "                                                                 \n",
            " average_pooling2d_9 (Averag  (None, 4, 4, 16)         0         \n",
            " ePooling2D)                                                     \n",
            "                                                                 \n",
            " flatten_6 (Flatten)         (None, 256)               0         \n",
            "                                                                 \n",
            " dense_14 (Dense)            (None, 120)               30840     \n",
            "                                                                 \n",
            " dense_15 (Dense)            (None, 84)                10164     \n",
            "                                                                 \n",
            " dense_16 (Dense)            (None, 10)                850       \n",
            "                                                                 \n",
            "=================================================================\n",
            "Total params: 44,426\n",
            "Trainable params: 44,426\n",
            "Non-trainable params: 0\n",
            "_________________________________________________________________\n"
          ]
        }
      ]
    },
    {
      "cell_type": "code",
      "source": [
        "# Prepare the train and test dataset.\n",
        "batch_size = 64\n",
        "(x_train, y_train), (x_test, y_test) = tf.datasets.mnist.load_data()\n",
        "\n",
        "# Normalize data\n",
        "x_train = x_train.astype(\"float32\") / 255.0\n",
        "x_train = np.reshape(x_train, (-1, 28, 28, 1))\n",
        "\n",
        "x_test = x_test.astype(\"float32\") / 255.0\n",
        "x_test = np.reshape(x_test, (-1, 28, 28, 1))\n"
      ],
      "metadata": {
        "id": "vPmBCKfwcN1K"
      },
      "execution_count": 129,
      "outputs": []
    },
    {
      "cell_type": "code",
      "source": [
        "lenet_model.compile(loss = tf.losses.SparseCategoricalCrossentropy(from_logits = True), metrics=[tf.metrics.SparseCategoricalAccuracy()], optimizer = 'adam')"
      ],
      "metadata": {
        "id": "__h4JBo8RNwW"
      },
      "execution_count": 130,
      "outputs": []
    },
    {
      "cell_type": "code",
      "source": [
        "history = lenet_model.fit(x_train, y_train, validation_data = (x_test, y_test), epochs = 5)"
      ],
      "metadata": {
        "colab": {
          "base_uri": "https://localhost:8080/"
        },
        "id": "gSNaszAVT8aP",
        "outputId": "d350cb23-19c0-407d-9d80-81c146b01826"
      },
      "execution_count": 131,
      "outputs": [
        {
          "output_type": "stream",
          "name": "stdout",
          "text": [
            "Epoch 1/5\n",
            "1875/1875 [==============================] - 30s 16ms/step - loss: 0.2380 - sparse_categorical_accuracy: 0.9265 - val_loss: 0.0860 - val_sparse_categorical_accuracy: 0.9716\n",
            "Epoch 2/5\n",
            "1875/1875 [==============================] - 29s 16ms/step - loss: 0.0785 - sparse_categorical_accuracy: 0.9759 - val_loss: 0.0547 - val_sparse_categorical_accuracy: 0.9832\n",
            "Epoch 3/5\n",
            "1875/1875 [==============================] - 29s 16ms/step - loss: 0.0561 - sparse_categorical_accuracy: 0.9825 - val_loss: 0.0435 - val_sparse_categorical_accuracy: 0.9854\n",
            "Epoch 4/5\n",
            "1875/1875 [==============================] - 29s 16ms/step - loss: 0.0453 - sparse_categorical_accuracy: 0.9855 - val_loss: 0.0392 - val_sparse_categorical_accuracy: 0.9873\n",
            "Epoch 5/5\n",
            "1875/1875 [==============================] - 30s 16ms/step - loss: 0.0360 - sparse_categorical_accuracy: 0.9886 - val_loss: 0.0545 - val_sparse_categorical_accuracy: 0.9841\n"
          ]
        }
      ]
    },
    {
      "cell_type": "code",
      "source": [
        ""
      ],
      "metadata": {
        "id": "uIyE4VKcT8em"
      },
      "execution_count": 132,
      "outputs": []
    },
    {
      "cell_type": "code",
      "source": [
        ""
      ],
      "metadata": {
        "id": "nQMsdlLgT8oO"
      },
      "execution_count": 132,
      "outputs": []
    },
    {
      "cell_type": "code",
      "source": [
        ""
      ],
      "metadata": {
        "id": "r2BCQST9T8tp"
      },
      "execution_count": 132,
      "outputs": []
    },
    {
      "cell_type": "markdown",
      "source": [
        "We are going to use the model of lenet as a teacher and we are going to create a student model with the knowledge of the teacher "
      ],
      "metadata": {
        "id": "yEkTCOMMXHOt"
      }
    },
    {
      "cell_type": "code",
      "source": [
        "lenet_model.save('lenet.h5')\n"
      ],
      "metadata": {
        "id": "Y1zbaiHPXSsU"
      },
      "execution_count": 133,
      "outputs": []
    },
    {
      "cell_type": "code",
      "source": [
        "import os \n",
        "\n",
        "(os.stat('/content/lenet.h5').st_size / 1024)/1024"
      ],
      "metadata": {
        "colab": {
          "base_uri": "https://localhost:8080/"
        },
        "id": "cDLC_rpAXjSy",
        "outputId": "64301f6e-b51d-4bea-d9d7-92d4ac22bb18"
      },
      "execution_count": 134,
      "outputs": [
        {
          "output_type": "execute_result",
          "data": {
            "text/plain": [
              "0.5589599609375"
            ]
          },
          "metadata": {},
          "execution_count": 134
        }
      ]
    },
    {
      "cell_type": "markdown",
      "source": [
        "Not a Quite big model, but this is enough for the demonstration\n"
      ],
      "metadata": {
        "id": "FoAlQvX6YAU4"
      }
    },
    {
      "cell_type": "code",
      "source": [
        "student = tf.Sequential(\n",
        "    [\n",
        "        tf.layers.Input(shape=(28, 28, 1)),\n",
        "        tf.layers.Conv2D(16, (3, 3), strides=(2, 2), padding=\"same\"),\n",
        "        tf.layers.LeakyReLU(alpha=0.2),\n",
        "        tf.layers.MaxPooling2D(pool_size=(2, 2), strides=(1, 1), padding=\"same\"),\n",
        "        tf.layers.Conv2D(32, (3, 3), strides=(2, 2), padding=\"same\"),\n",
        "        tf.layers.Flatten(),\n",
        "        tf.layers.Dense(10),\n",
        "    ],\n",
        "    name=\"student\",\n",
        ")\n"
      ],
      "metadata": {
        "id": "8lvPWLWxYGlm"
      },
      "execution_count": 140,
      "outputs": []
    },
    {
      "cell_type": "code",
      "source": [
        "# Creating a copy of the model\n",
        "\n",
        "student_copy = tf.models.clone_model(student)"
      ],
      "metadata": {
        "id": "auxWVY_WYHEg"
      },
      "execution_count": 141,
      "outputs": []
    },
    {
      "cell_type": "code",
      "source": [
        "# model summary of the student\n",
        "\n",
        "\n",
        "student.summary()"
      ],
      "metadata": {
        "colab": {
          "base_uri": "https://localhost:8080/"
        },
        "id": "AvdY9Fw-YHJv",
        "outputId": "685f7510-4062-4ef0-9f4a-5ee61b4240ec"
      },
      "execution_count": 142,
      "outputs": [
        {
          "output_type": "stream",
          "name": "stdout",
          "text": [
            "Model: \"student\"\n",
            "_________________________________________________________________\n",
            " Layer (type)                Output Shape              Param #   \n",
            "=================================================================\n",
            " conv2d_19 (Conv2D)          (None, 14, 14, 16)        160       \n",
            "                                                                 \n",
            " leaky_re_lu_3 (LeakyReLU)   (None, 14, 14, 16)        0         \n",
            "                                                                 \n",
            " max_pooling2d_3 (MaxPooling  (None, 14, 14, 16)       0         \n",
            " 2D)                                                             \n",
            "                                                                 \n",
            " conv2d_20 (Conv2D)          (None, 7, 7, 32)          4640      \n",
            "                                                                 \n",
            " flatten_8 (Flatten)         (None, 1568)              0         \n",
            "                                                                 \n",
            " dense_18 (Dense)            (None, 10)                15690     \n",
            "                                                                 \n",
            "=================================================================\n",
            "Total params: 20,490\n",
            "Trainable params: 20,490\n",
            "Non-trainable params: 0\n",
            "_________________________________________________________________\n"
          ]
        }
      ]
    },
    {
      "cell_type": "markdown",
      "source": [
        "Parameter Wise, Teacher Model has a 60k parameters, Student has a 20k parameters. So there is some difference in the number of parameter between the teacher and the student. \n",
        "We are going to use the distiller cklass which is defined in keras. https://keras.io/examples/vision/knowledge_distillation/ . This is the link for the example of knowledge distillation, take a look at it. This is created based on the example from the keras offical page"
      ],
      "metadata": {
        "id": "dmcR0WV-Y7SU"
      }
    },
    {
      "cell_type": "code",
      "source": [
        "class Distiller(tf.Model):\n",
        "    def __init__(self, student, teacher):\n",
        "        super(Distiller, self).__init__()\n",
        "        self.teacher = teacher\n",
        "        self.student = student\n",
        "\n",
        "    def compile(\n",
        "        self,\n",
        "        optimizer,\n",
        "        metrics,\n",
        "        student_loss_fn,\n",
        "        distillation_loss_fn,\n",
        "        alpha=0.1,\n",
        "        temperature=3,\n",
        "    ):\n",
        "        \"\"\" Configure the distiller.\n",
        "\n",
        "        Args:\n",
        "            optimizer: Keras optimizer for the student weights\n",
        "            metrics: Keras metrics for evaluation\n",
        "            student_loss_fn: Loss function of difference between student\n",
        "                predictions and ground-truth\n",
        "            distillation_loss_fn: Loss function of difference between soft\n",
        "                student predictions and soft teacher predictions\n",
        "            alpha: weight to student_loss_fn and 1-alpha to distillation_loss_fn\n",
        "            temperature: Temperature for softening probability distributions.\n",
        "                Larger temperature gives softer distributions.\n",
        "        \"\"\"\n",
        "        super(Distiller, self).compile(optimizer=optimizer, metrics=metrics)\n",
        "        self.student_loss_fn = student_loss_fn\n",
        "        self.distillation_loss_fn = distillation_loss_fn\n",
        "        self.alpha = alpha\n",
        "        self.temperature = temperature\n",
        "\n",
        "    def train_step(self, data):\n",
        "        # Unpack data\n",
        "        x, y = data\n",
        "\n",
        "        # Forward pass of teacher\n",
        "        teacher_predictions = self.teacher(x, training=False)\n",
        "\n",
        "        with tf1.GradientTape() as tape:\n",
        "            # Forward pass of student\n",
        "            student_predictions = self.student(x, training=True)\n",
        "\n",
        "            # Compute losses\n",
        "            student_loss = self.student_loss_fn(y, student_predictions)\n",
        "            distillation_loss = self.distillation_loss_fn(\n",
        "                tf1.nn.softmax(teacher_predictions / self.temperature, axis=1),\n",
        "                tf1.nn.softmax(student_predictions / self.temperature, axis=1),\n",
        "            )\n",
        "            loss = self.alpha * student_loss + (1 - self.alpha) * distillation_loss\n",
        "\n",
        "        # Compute gradients\n",
        "        trainable_vars = self.student.trainable_variables\n",
        "        gradients = tape.gradient(loss, trainable_vars)\n",
        "\n",
        "        # Update weights\n",
        "        self.optimizer.apply_gradients(zip(gradients, trainable_vars))\n",
        "\n",
        "        # Update the metrics configured in `compile()`.\n",
        "        self.compiled_metrics.update_state(y, student_predictions)\n",
        "\n",
        "        # Return a dict of performance\n",
        "        results = {m.name: m.result() for m in self.metrics}\n",
        "        results.update(\n",
        "            {\"student_loss\": student_loss, \"distillation_loss\": distillation_loss}\n",
        "        )\n",
        "        return results\n",
        "\n",
        "    def test_step(self, data):\n",
        "        # Unpack the data\n",
        "        x, y = data\n",
        "\n",
        "        # Compute predictions\n",
        "        y_prediction = self.student(x, training=False)\n",
        "\n",
        "        # Calculate the loss\n",
        "        student_loss = self.student_loss_fn(y, y_prediction)\n",
        "\n",
        "        # Update the metrics.\n",
        "        self.compiled_metrics.update_state(y, y_prediction)\n",
        "\n",
        "        # Return a dict of performance\n",
        "        results = {m.name: m.result() for m in self.metrics}\n",
        "        results.update({\"student_loss\": student_loss})\n",
        "        return results\n"
      ],
      "metadata": {
        "id": "nr62Wcw2YHOZ"
      },
      "execution_count": 145,
      "outputs": []
    },
    {
      "cell_type": "code",
      "source": [
        "distiller = Distiller(student=student, teacher=lenet_model)\n",
        "distiller.compile(\n",
        "    optimizer=tf.optimizers.Adam(),\n",
        "    metrics=[tf.metrics.SparseCategoricalAccuracy()],\n",
        "    student_loss_fn=tf.losses.SparseCategoricalCrossentropy(from_logits=True),\n",
        "    distillation_loss_fn=tf.losses.KLDivergence(),\n",
        "    alpha=0.1,\n",
        "    temperature=10,\n",
        ")\n",
        "\n",
        "# Distill teacher to student\n",
        "distiller.fit(x_train, y_train, epochs=3)\n",
        "\n",
        "# Evaluate student on test dataset\n",
        "distiller.evaluate(x_test, y_test)"
      ],
      "metadata": {
        "colab": {
          "base_uri": "https://localhost:8080/"
        },
        "id": "eHTta7jHY5WY",
        "outputId": "ab734a25-76c4-4fb6-c0de-5e2d91ba2390"
      },
      "execution_count": 146,
      "outputs": [
        {
          "output_type": "stream",
          "name": "stdout",
          "text": [
            "Epoch 1/3\n",
            "1875/1875 [==============================] - 43s 22ms/step - sparse_categorical_accuracy: 0.9229 - student_loss: 0.2544 - distillation_loss: 0.0491\n",
            "Epoch 2/3\n",
            "1875/1875 [==============================] - 27s 14ms/step - sparse_categorical_accuracy: 0.9686 - student_loss: 0.1009 - distillation_loss: 0.0241\n",
            "Epoch 3/3\n",
            "1875/1875 [==============================] - 27s 14ms/step - sparse_categorical_accuracy: 0.9742 - student_loss: 0.0831 - distillation_loss: 0.0210\n",
            "313/313 [==============================] - 1s 4ms/step - sparse_categorical_accuracy: 0.9756 - student_loss: 0.0726\n"
          ]
        },
        {
          "output_type": "execute_result",
          "data": {
            "text/plain": [
              "[0.975600004196167, 0.005354690365493298]"
            ]
          },
          "metadata": {},
          "execution_count": 146
        }
      ]
    },
    {
      "cell_type": "code",
      "source": [
        "# Train student as doen usually\n",
        "student_copy.compile(\n",
        "    optimizer=tf.optimizers.Adam(),\n",
        "    loss=tf.losses.SparseCategoricalCrossentropy(from_logits=True),\n",
        "    metrics=[tf.metrics.SparseCategoricalAccuracy()],\n",
        ")\n",
        "\n",
        "# Train and evaluate student trained from scratch.\n",
        "student_copy.fit(x_train, y_train, epochs=3)\n",
        "student_copy.evaluate(x_test, y_test)\n"
      ],
      "metadata": {
        "colab": {
          "base_uri": "https://localhost:8080/"
        },
        "id": "pEXk7pyHY5dD",
        "outputId": "597ebccc-65d5-46eb-a150-dfbe8e5f7e02"
      },
      "execution_count": 148,
      "outputs": [
        {
          "output_type": "stream",
          "name": "stdout",
          "text": [
            "Epoch 1/3\n",
            "1875/1875 [==============================] - 19s 10ms/step - loss: 0.2425 - sparse_categorical_accuracy: 0.9282\n",
            "Epoch 2/3\n",
            "1875/1875 [==============================] - 18s 10ms/step - loss: 0.0924 - sparse_categorical_accuracy: 0.9717\n",
            "Epoch 3/3\n",
            "1875/1875 [==============================] - 19s 10ms/step - loss: 0.0746 - sparse_categorical_accuracy: 0.9772\n",
            "313/313 [==============================] - 1s 4ms/step - loss: 0.0711 - sparse_categorical_accuracy: 0.9771\n"
          ]
        },
        {
          "output_type": "execute_result",
          "data": {
            "text/plain": [
              "[0.07109558582305908, 0.9771000146865845]"
            ]
          },
          "metadata": {},
          "execution_count": 148
        }
      ]
    },
    {
      "cell_type": "code",
      "source": [
        "# Both the student from scratch model and distilled model provides the similar result. But this is not the case in the complex dataset like a image \n",
        "# dataset, classication, object detection, in those tasks, knowledge distillation performs well"
      ],
      "metadata": {
        "id": "ssQjHuoOY6D_"
      },
      "execution_count": 149,
      "outputs": []
    },
    {
      "cell_type": "code",
      "source": [
        "(os.path.getsize(filename='/content/lenet.h5')/(1024 * 1024))"
      ],
      "metadata": {
        "colab": {
          "base_uri": "https://localhost:8080/"
        },
        "id": "0itNeYrggTmT",
        "outputId": "4abb84a7-3927-481c-e3b4-5e8689f8f39f"
      },
      "execution_count": 154,
      "outputs": [
        {
          "output_type": "execute_result",
          "data": {
            "text/plain": [
              "0.5589599609375"
            ]
          },
          "metadata": {},
          "execution_count": 154
        }
      ]
    },
    {
      "cell_type": "code",
      "source": [
        "# Converting tf model into tf-lite model \n",
        "# step1 : Create a convertor\n",
        "# Extension of tf-lite model is .tflite\n",
        "\n",
        "tflite_filename = \"tflite-model.tflite\"\n",
        "\n",
        "# This will convert our model into a tflite model. We defined the class object, inorder to convert, we need to call the method .convert\n",
        "tflite_convertor = tf1.lite.TFLiteConverter.from_keras_model(lenet_model)\n",
        "tflite_model = tflite_convertor.convert()\n"
      ],
      "metadata": {
        "colab": {
          "base_uri": "https://localhost:8080/"
        },
        "id": "OUtOGFDuiuir",
        "outputId": "1ef4dff2-f753-4468-a4e2-82e55e9d2823"
      },
      "execution_count": 155,
      "outputs": [
        {
          "output_type": "stream",
          "name": "stdout",
          "text": [
            "INFO:tensorflow:Assets written to: /tmp/tmpbog7c9a1/assets\n"
          ]
        },
        {
          "output_type": "stream",
          "name": "stderr",
          "text": [
            "WARNING:absl:Buffer deduplication procedure will be skipped when flatbuffer library is not properly loaded\n"
          ]
        }
      ]
    },
    {
      "cell_type": "code",
      "source": [
        "open(tflite_filename, \"wb\").write(tflite_model)"
      ],
      "metadata": {
        "colab": {
          "base_uri": "https://localhost:8080/"
        },
        "id": "ELAYAYLVjKkr",
        "outputId": "dda97a15-0b5d-4f00-ff55-2102a743bd74"
      },
      "execution_count": 156,
      "outputs": [
        {
          "output_type": "execute_result",
          "data": {
            "text/plain": [
              "180988"
            ]
          },
          "metadata": {},
          "execution_count": 156
        }
      ]
    },
    {
      "cell_type": "code",
      "source": [
        "(os.path.getsize(filename='/content/tflite-model.tflite')/(1024 * 1024))"
      ],
      "metadata": {
        "colab": {
          "base_uri": "https://localhost:8080/"
        },
        "id": "oVCQXaPgjKq6",
        "outputId": "c1f3c196-49a5-4705-a824-3d738e650995"
      },
      "execution_count": 157,
      "outputs": [
        {
          "output_type": "execute_result",
          "data": {
            "text/plain": [
              "0.17260360717773438"
            ]
          },
          "metadata": {},
          "execution_count": 157
        }
      ]
    },
    {
      "cell_type": "code",
      "source": [
        ""
      ],
      "metadata": {
        "id": "fRdXRQgZjKxO"
      },
      "execution_count": null,
      "outputs": []
    }
  ]
}