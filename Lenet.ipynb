{
  "nbformat": 4,
  "nbformat_minor": 0,
  "metadata": {
    "colab": {
      "name": "Lenet.ipynb",
      "provenance": []
    },
    "kernelspec": {
      "name": "python3",
      "display_name": "Python 3"
    },
    "language_info": {
      "name": "python"
    }
  },
  "cells": [
    {
      "cell_type": "code",
      "execution_count": 1,
      "metadata": {
        "id": "nZbeZmN4N5J4"
      },
      "outputs": [],
      "source": [
        "import tensorflow.keras as tf "
      ]
    },
    {
      "cell_type": "markdown",
      "source": [
        "Lenet is the first Neural Network model to be implemented for the Computer Vision task, but it is useful for the grayscale images. It is used for the bank system to identify the handwritten digits. "
      ],
      "metadata": {
        "id": "KJc-obF5QzvT"
      }
    },
    {
      "cell_type": "code",
      "source": [
        "# Architecture of LeNet"
      ],
      "metadata": {
        "id": "v7z4CpW3OEOo"
      },
      "execution_count": 2,
      "outputs": []
    },
    {
      "cell_type": "code",
      "source": [
        "lenet_model = tf.Sequential()"
      ],
      "metadata": {
        "id": "ornY5F_pOSTw"
      },
      "execution_count": 3,
      "outputs": []
    },
    {
      "cell_type": "code",
      "source": [
        "lenet_model.add(\n",
        "    tf.layers.Input(shape = (32, 32, 1))\n",
        ")"
      ],
      "metadata": {
        "id": "hybvvItVOWLN"
      },
      "execution_count": 4,
      "outputs": []
    },
    {
      "cell_type": "code",
      "source": [
        "lenet_model.add(\n",
        "    tf.layers.Conv2D(\n",
        "        kernel_size = (5, 5), strides = (1, 1), activation = 'relu', filters = 6\n",
        "    )\n",
        ")"
      ],
      "metadata": {
        "id": "wWPoHEcjO57q"
      },
      "execution_count": 7,
      "outputs": []
    },
    {
      "cell_type": "code",
      "source": [
        "lenet_model.add(\n",
        "    tf.layers.AveragePooling2D(pool_size = (2, 2), strides = (2, 2))\n",
        ")"
      ],
      "metadata": {
        "id": "C8Lq9UUsPWmT"
      },
      "execution_count": 9,
      "outputs": []
    },
    {
      "cell_type": "code",
      "source": [
        "lenet_model.add(\n",
        "    tf.layers.Conv2D(\n",
        "        kernel_size = (5, 5), strides = (1, 1), activation = 'relu', filters = 16\n",
        "    )\n",
        ")"
      ],
      "metadata": {
        "id": "fSZLg1zLPLBF"
      },
      "execution_count": 10,
      "outputs": []
    },
    {
      "cell_type": "code",
      "source": [
        "lenet_model.add(\n",
        "    tf.layers.AveragePooling2D(pool_size = (2, 2), strides = (2, 2))\n",
        ")"
      ],
      "metadata": {
        "id": "AkLxkXufPU-z"
      },
      "execution_count": 11,
      "outputs": []
    },
    {
      "cell_type": "code",
      "source": [
        "lenet_model.add(\n",
        "    tf.layers.Flatten()\n",
        ")"
      ],
      "metadata": {
        "id": "oLQ0YUjePVPd"
      },
      "execution_count": 12,
      "outputs": []
    },
    {
      "cell_type": "code",
      "source": [
        "lenet_model.add(\n",
        "    tf.layers.Dense(units = 120, activation = 'relu')\n",
        ")"
      ],
      "metadata": {
        "id": "TTocLT2WPVb2"
      },
      "execution_count": 13,
      "outputs": []
    },
    {
      "cell_type": "code",
      "source": [
        "lenet_model.add(\n",
        "    tf.layers.Dense(units = 84, activation = 'relu')\n",
        ")"
      ],
      "metadata": {
        "id": "-8sdMcedPVlJ"
      },
      "execution_count": 14,
      "outputs": []
    },
    {
      "cell_type": "code",
      "source": [
        "lenet_model.add(\n",
        "    tf.layers.Dense(units = 10, activation = 'softmax')\n",
        ")"
      ],
      "metadata": {
        "id": "CnzccPRePVvA"
      },
      "execution_count": 15,
      "outputs": []
    },
    {
      "cell_type": "code",
      "source": [
        "lenet_model.summary()"
      ],
      "metadata": {
        "colab": {
          "base_uri": "https://localhost:8080/"
        },
        "id": "gQ_JMfcsQWZc",
        "outputId": "95fcc079-1a18-4cd9-a4aa-3b9083a1c366"
      },
      "execution_count": 16,
      "outputs": [
        {
          "output_type": "stream",
          "name": "stdout",
          "text": [
            "Model: \"sequential\"\n",
            "_________________________________________________________________\n",
            " Layer (type)                Output Shape              Param #   \n",
            "=================================================================\n",
            " conv2d (Conv2D)             (None, 28, 28, 6)         156       \n",
            "                                                                 \n",
            " average_pooling2d (AverageP  (None, 14, 14, 6)        0         \n",
            " ooling2D)                                                       \n",
            "                                                                 \n",
            " conv2d_1 (Conv2D)           (None, 10, 10, 16)        2416      \n",
            "                                                                 \n",
            " average_pooling2d_1 (Averag  (None, 5, 5, 16)         0         \n",
            " ePooling2D)                                                     \n",
            "                                                                 \n",
            " flatten (Flatten)           (None, 400)               0         \n",
            "                                                                 \n",
            " dense (Dense)               (None, 120)               48120     \n",
            "                                                                 \n",
            " dense_1 (Dense)             (None, 84)                10164     \n",
            "                                                                 \n",
            " dense_2 (Dense)             (None, 10)                850       \n",
            "                                                                 \n",
            "=================================================================\n",
            "Total params: 61,706\n",
            "Trainable params: 61,706\n",
            "Non-trainable params: 0\n",
            "_________________________________________________________________\n"
          ]
        }
      ]
    },
    {
      "cell_type": "code",
      "source": [
        "from tensorflow.keras.datasets import mnist"
      ],
      "metadata": {
        "id": "z4xrCZa-QZgq"
      },
      "execution_count": 17,
      "outputs": []
    },
    {
      "cell_type": "code",
      "source": [
        "(x_train, y_train), (x_test, y_test) = mnist.load_data()"
      ],
      "metadata": {
        "colab": {
          "base_uri": "https://localhost:8080/"
        },
        "id": "nElxL9agRNch",
        "outputId": "8905470a-d72e-4d22-9b74-f2e034841d5f"
      },
      "execution_count": 19,
      "outputs": [
        {
          "output_type": "stream",
          "name": "stdout",
          "text": [
            "Downloading data from https://storage.googleapis.com/tensorflow/tf-keras-datasets/mnist.npz\n",
            "11493376/11490434 [==============================] - 0s 0us/step\n",
            "11501568/11490434 [==============================] - 0s 0us/step\n"
          ]
        }
      ]
    },
    {
      "cell_type": "code",
      "source": [
        "x_train.shape"
      ],
      "metadata": {
        "colab": {
          "base_uri": "https://localhost:8080/"
        },
        "id": "GNu0RNHjRNhU",
        "outputId": "7778c67d-d98f-433e-fd31-e7cdaaa0e906"
      },
      "execution_count": 20,
      "outputs": [
        {
          "output_type": "execute_result",
          "data": {
            "text/plain": [
              "(60000, 28, 28)"
            ]
          },
          "metadata": {},
          "execution_count": 20
        }
      ]
    },
    {
      "cell_type": "code",
      "source": [
        "import numpy as np\n",
        "new_x_train =  []\n",
        "new_x_test = [ ]\n",
        "import cv2\n",
        "import matplotlib.pyplot as plt\n",
        "\n",
        "for img in x_train :\n",
        "  img = cv2.resize(img, (32, 32))\n",
        "  new_x_train.append(img)\n",
        "\n",
        "for img in x_test :\n",
        "  img = cv2.resize(img, (32, 32))\n",
        "  new_x_test.append(img)\n"
      ],
      "metadata": {
        "id": "TkF2K0HkRl72"
      },
      "execution_count": 36,
      "outputs": []
    },
    {
      "cell_type": "code",
      "source": [
        "x_train = np.array(new_x_train)\n",
        "x_test = np.array(new_x_test)"
      ],
      "metadata": {
        "id": "UeTxsbBCRmDg"
      },
      "execution_count": 37,
      "outputs": []
    },
    {
      "cell_type": "code",
      "source": [
        "x_train.shape"
      ],
      "metadata": {
        "colab": {
          "base_uri": "https://localhost:8080/"
        },
        "id": "Tv_9DtlRRmKS",
        "outputId": "bba2610e-cf0c-44a2-f34f-ad8c03c61370"
      },
      "execution_count": 38,
      "outputs": [
        {
          "output_type": "execute_result",
          "data": {
            "text/plain": [
              "(60000, 32, 32)"
            ]
          },
          "metadata": {},
          "execution_count": 38
        }
      ]
    },
    {
      "cell_type": "code",
      "source": [
        "x_test.shape"
      ],
      "metadata": {
        "colab": {
          "base_uri": "https://localhost:8080/"
        },
        "id": "j3OL7W2QRNoM",
        "outputId": "c371365d-561a-4fa4-aeed-b87a0020c3f1"
      },
      "execution_count": 39,
      "outputs": [
        {
          "output_type": "execute_result",
          "data": {
            "text/plain": [
              "(10000, 32, 32)"
            ]
          },
          "metadata": {},
          "execution_count": 39
        }
      ]
    },
    {
      "cell_type": "code",
      "source": [
        "import pandas as pd\n",
        "y_train = pd.get_dummies(y_train)\n",
        "y_test = pd.get_dummies(y_test)"
      ],
      "metadata": {
        "id": "noCm5UxNURNi"
      },
      "execution_count": 43,
      "outputs": []
    },
    {
      "cell_type": "code",
      "source": [
        "lenet_model.compile(loss = tf.losses.categorical_crossentropy, metrics = 'accuracy', optimizer = 'adam')"
      ],
      "metadata": {
        "id": "__h4JBo8RNwW"
      },
      "execution_count": 44,
      "outputs": []
    },
    {
      "cell_type": "code",
      "source": [
        "history = lenet_model.fit(x_train, y_train, validation_data = (x_test, y_test), epochs = 10)"
      ],
      "metadata": {
        "colab": {
          "base_uri": "https://localhost:8080/"
        },
        "id": "gSNaszAVT8aP",
        "outputId": "98d1f24b-aa50-4342-f7e4-177e0397e3a0"
      },
      "execution_count": 46,
      "outputs": [
        {
          "output_type": "stream",
          "name": "stdout",
          "text": [
            "Epoch 1/10\n",
            "1875/1875 [==============================] - 37s 20ms/step - loss: 0.0414 - accuracy: 0.9872 - val_loss: 0.0451 - val_accuracy: 0.9877\n",
            "Epoch 2/10\n",
            "1875/1875 [==============================] - 39s 21ms/step - loss: 0.0334 - accuracy: 0.9899 - val_loss: 0.0443 - val_accuracy: 0.9865\n",
            "Epoch 3/10\n",
            "1875/1875 [==============================] - 39s 21ms/step - loss: 0.0288 - accuracy: 0.9910 - val_loss: 0.0466 - val_accuracy: 0.9876\n",
            "Epoch 4/10\n",
            "1875/1875 [==============================] - 40s 21ms/step - loss: 0.0242 - accuracy: 0.9923 - val_loss: 0.0514 - val_accuracy: 0.9883\n",
            "Epoch 5/10\n",
            "1875/1875 [==============================] - 40s 21ms/step - loss: 0.0233 - accuracy: 0.9926 - val_loss: 0.0526 - val_accuracy: 0.9867\n",
            "Epoch 6/10\n",
            "1875/1875 [==============================] - 41s 22ms/step - loss: 0.0198 - accuracy: 0.9938 - val_loss: 0.0746 - val_accuracy: 0.9800\n",
            "Epoch 7/10\n",
            "1875/1875 [==============================] - 41s 22ms/step - loss: 0.0199 - accuracy: 0.9938 - val_loss: 0.0538 - val_accuracy: 0.9843\n",
            "Epoch 8/10\n",
            "1875/1875 [==============================] - 41s 22ms/step - loss: 0.0192 - accuracy: 0.9946 - val_loss: 0.1090 - val_accuracy: 0.9755\n",
            "Epoch 9/10\n",
            "1875/1875 [==============================] - 43s 23ms/step - loss: 0.0169 - accuracy: 0.9949 - val_loss: 0.0675 - val_accuracy: 0.9872\n",
            "Epoch 10/10\n",
            "1875/1875 [==============================] - 43s 23ms/step - loss: 0.0148 - accuracy: 0.9958 - val_loss: 0.0535 - val_accuracy: 0.9890\n"
          ]
        }
      ]
    },
    {
      "cell_type": "code",
      "source": [
        "vl = history.history['val_loss']\n",
        "a = history.history['accuracy']\n",
        "va = history.history['val_accuracy']\n",
        "l = history.history['loss']"
      ],
      "metadata": {
        "id": "uIyE4VKcT8em"
      },
      "execution_count": 50,
      "outputs": []
    },
    {
      "cell_type": "code",
      "source": [
        "plt.figure(figsize = (10, 10))\n",
        "plt.plot(range(10), l, label = 'training loss')\n",
        "plt.plot(range(10), vl, label = 'val loss')\n",
        "plt.xlabel('Epochs')\n",
        "plt.ylabel('Loss')\n",
        "plt.legend()\n",
        "plt.show()"
      ],
      "metadata": {
        "colab": {
          "base_uri": "https://localhost:8080/",
          "height": 606
        },
        "id": "nQMsdlLgT8oO",
        "outputId": "750655a8-0382-423a-85f2-72a8b188998c"
      },
      "execution_count": 53,
      "outputs": [
        {
          "output_type": "display_data",
          "data": {
            "text/plain": [
              "<Figure size 720x720 with 1 Axes>"
            ],
            "image/png": "[encoded data removed]"
          },
          "metadata": {
            "needs_background": "light"
          }
        }
      ]
    },
    {
      "cell_type": "code",
      "source": [
        "plt.figure(figsize = (10, 10))\n",
        "plt.plot(range(10), a, label = 'training acc')\n",
        "plt.plot(range(10), va, label = 'val acc')\n",
        "plt.xlabel('Epochs')\n",
        "plt.ylabel('acc')\n",
        "plt.legend()\n",
        "plt.show()"
      ],
      "metadata": {
        "colab": {
          "base_uri": "https://localhost:8080/",
          "height": 606
        },
        "id": "r2BCQST9T8tp",
        "outputId": "c3c7c89c-c88e-404f-97a7-b9ec99e6f772"
      },
      "execution_count": 54,
      "outputs": [
        {
          "output_type": "display_data",
          "data": {
            "text/plain": [
              "<Figure size 720x720 with 1 Axes>"
            ],
            "image/png": "[encoded data removed]"
          },
          "metadata": {
            "needs_background": "light"
          }
        }
      ]
    },
    {
      "cell_type": "code",
      "source": [
        ""
      ],
      "metadata": {
        "id": "HQ-75TvCT85l"
      },
      "execution_count": null,
      "outputs": []
    },
    {
      "cell_type": "code",
      "source": [
        ""
      ],
      "metadata": {
        "id": "oWO8s7lgT8_a"
      },
      "execution_count": null,
      "outputs": []
    },
    {
      "cell_type": "code",
      "source": [
        ""
      ],
      "metadata": {
        "id": "0yCgtVfmRN0V"
      },
      "execution_count": null,
      "outputs": []
    }
  ]
}