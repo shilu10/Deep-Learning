{
  "nbformat": 4,
  "nbformat_minor": 0,
  "metadata": {
    "colab": {
      "name": "Spatial_Pyramid_pooling.ipynb",
      "provenance": []
    },
    "kernelspec": {
      "name": "python3",
      "display_name": "Python 3"
    },
    "language_info": {
      "name": "python"
    },
    "accelerator": "GPU"
  },
  "cells": [
    {
      "cell_type": "code",
      "execution_count": 42,
      "metadata": {
        "id": "IfGPO3T958cp"
      },
      "outputs": [],
      "source": [
        "path = \"/content/drive/MyDrive/dog_cat/training/\"\n",
        "testing_path = '/content/drive/MyDrive/dog_cat/testing/'"
      ]
    },
    {
      "cell_type": "code",
      "source": [
        "from google.colab import drive\n",
        "drive.mount('/content/drive')"
      ],
      "metadata": {
        "colab": {
          "base_uri": "https://localhost:8080/"
        },
        "id": "YVKE3s6SAS7c",
        "outputId": "8db27bbd-047f-47e7-a82e-4612b3e1fbc4"
      },
      "execution_count": 7,
      "outputs": [
        {
          "output_type": "stream",
          "name": "stdout",
          "text": [
            "Drive already mounted at /content/drive; to attempt to forcibly remount, call drive.mount(\"/content/drive\", force_remount=True).\n"
          ]
        }
      ]
    },
    {
      "cell_type": "code",
      "source": [
        "pip install tensorflow-addons"
      ],
      "metadata": {
        "colab": {
          "base_uri": "https://localhost:8080/"
        },
        "id": "a3WbC8iHDBGI",
        "outputId": "c7d921e3-75e8-476b-c7ee-c9db2f351660"
      },
      "execution_count": 8,
      "outputs": [
        {
          "output_type": "stream",
          "name": "stdout",
          "text": [
            "Requirement already satisfied: tensorflow-addons in /usr/local/lib/python3.7/dist-packages (0.16.1)\n",
            "Requirement already satisfied: typeguard>=2.7 in /usr/local/lib/python3.7/dist-packages (from tensorflow-addons) (2.7.1)\n"
          ]
        }
      ]
    },
    {
      "cell_type": "markdown",
      "source": [
        "Testing of pretrained model to use the Spatial Pyramid pooling layer from the SPPNet and used in the pre-trained model of vgg16 to have a different shaped images as a input"
      ],
      "metadata": {
        "id": "l-FEZz6xUqvY"
      }
    },
    {
      "cell_type": "code",
      "source": [
        "import tensorflow.keras as tf \n",
        "import numpy as np \n",
        "import matplotlib.pyplot as plt \n",
        "import pandas as pd \n",
        "import tensorflow as tf1 \n",
        "from tensorflow.keras.preprocessing import image_dataset_from_directory\n",
        "from tensorflow.keras.preprocessing.image import ImageDataGenerator, DirectoryIterator\n",
        "from tensorflow.keras.applications.vgg16 import VGG16\n",
        "import cv2\n",
        "import tensorflow_addons as tfa"
      ],
      "metadata": {
        "id": "QENHK-tN6BWj"
      },
      "execution_count": 9,
      "outputs": []
    },
    {
      "cell_type": "code",
      "source": [
        ""
      ],
      "metadata": {
        "id": "c1s0R1x8I4W0"
      },
      "execution_count": 9,
      "outputs": []
    },
    {
      "cell_type": "code",
      "source": [
        "vgg_model = VGG16(include_top = False)"
      ],
      "metadata": {
        "id": "ithgW6Iy6uMc",
        "colab": {
          "base_uri": "https://localhost:8080/"
        },
        "outputId": "263c9595-c550-4650-db4a-572a2d04e3e7"
      },
      "execution_count": 10,
      "outputs": [
        {
          "output_type": "stream",
          "name": "stdout",
          "text": [
            "Downloading data from https://storage.googleapis.com/tensorflow/keras-applications/vgg16/vgg16_weights_tf_dim_ordering_tf_kernels_notop.h5\n",
            "58892288/58889256 [==============================] - 1s 0us/step\n",
            "58900480/58889256 [==============================] - 1s 0us/step\n"
          ]
        }
      ]
    },
    {
      "cell_type": "code",
      "source": [
        "vgg_model.summary()"
      ],
      "metadata": {
        "colab": {
          "base_uri": "https://localhost:8080/"
        },
        "id": "5Fth9pBc6uRm",
        "outputId": "81ea7e4a-20d0-4315-9d17-61e41abcdeaa"
      },
      "execution_count": 11,
      "outputs": [
        {
          "output_type": "stream",
          "name": "stdout",
          "text": [
            "Model: \"vgg16\"\n",
            "_________________________________________________________________\n",
            " Layer (type)                Output Shape              Param #   \n",
            "=================================================================\n",
            " input_1 (InputLayer)        [(None, None, None, 3)]   0         \n",
            "                                                                 \n",
            " block1_conv1 (Conv2D)       (None, None, None, 64)    1792      \n",
            "                                                                 \n",
            " block1_conv2 (Conv2D)       (None, None, None, 64)    36928     \n",
            "                                                                 \n",
            " block1_pool (MaxPooling2D)  (None, None, None, 64)    0         \n",
            "                                                                 \n",
            " block2_conv1 (Conv2D)       (None, None, None, 128)   73856     \n",
            "                                                                 \n",
            " block2_conv2 (Conv2D)       (None, None, None, 128)   147584    \n",
            "                                                                 \n",
            " block2_pool (MaxPooling2D)  (None, None, None, 128)   0         \n",
            "                                                                 \n",
            " block3_conv1 (Conv2D)       (None, None, None, 256)   295168    \n",
            "                                                                 \n",
            " block3_conv2 (Conv2D)       (None, None, None, 256)   590080    \n",
            "                                                                 \n",
            " block3_conv3 (Conv2D)       (None, None, None, 256)   590080    \n",
            "                                                                 \n",
            " block3_pool (MaxPooling2D)  (None, None, None, 256)   0         \n",
            "                                                                 \n",
            " block4_conv1 (Conv2D)       (None, None, None, 512)   1180160   \n",
            "                                                                 \n",
            " block4_conv2 (Conv2D)       (None, None, None, 512)   2359808   \n",
            "                                                                 \n",
            " block4_conv3 (Conv2D)       (None, None, None, 512)   2359808   \n",
            "                                                                 \n",
            " block4_pool (MaxPooling2D)  (None, None, None, 512)   0         \n",
            "                                                                 \n",
            " block5_conv1 (Conv2D)       (None, None, None, 512)   2359808   \n",
            "                                                                 \n",
            " block5_conv2 (Conv2D)       (None, None, None, 512)   2359808   \n",
            "                                                                 \n",
            " block5_conv3 (Conv2D)       (None, None, None, 512)   2359808   \n",
            "                                                                 \n",
            " block5_pool (MaxPooling2D)  (None, None, None, 512)   0         \n",
            "                                                                 \n",
            "=================================================================\n",
            "Total params: 14,714,688\n",
            "Trainable params: 14,714,688\n",
            "Non-trainable params: 0\n",
            "_________________________________________________________________\n"
          ]
        }
      ]
    },
    {
      "cell_type": "code",
      "source": [
        ""
      ],
      "metadata": {
        "id": "szEO-McJUlMe"
      },
      "execution_count": 11,
      "outputs": []
    },
    {
      "cell_type": "code",
      "source": [
        "spatial_pyramid_pooling = tfa.layers.SpatialPyramidPooling2D(bins = [[1,1], [3, 3], [5, 5]])"
      ],
      "metadata": {
        "id": "j2yh0EJTHwGT"
      },
      "execution_count": 12,
      "outputs": []
    },
    {
      "cell_type": "code",
      "source": [
        "model = tf.Sequential()\n",
        "\n",
        "counter = 0\n",
        "for layer in vgg_model.layers:\n",
        "  layer.trainable = False\n",
        "  model.add(layer)\n",
        "model.add(spatial_pyramid_pooling)"
      ],
      "metadata": {
        "id": "PFPF13qo6uXj"
      },
      "execution_count": 13,
      "outputs": []
    },
    {
      "cell_type": "code",
      "source": [
        "model.add(\n",
        "    tf.layers.Flatten()\n",
        ")"
      ],
      "metadata": {
        "id": "phM37Zo26uc7"
      },
      "execution_count": 14,
      "outputs": []
    },
    {
      "cell_type": "code",
      "source": [
        "model.add(\n",
        "    tf.layers.Dense(512, activation = 'relu')\n",
        ")"
      ],
      "metadata": {
        "id": "WL-c9yw5MH3O"
      },
      "execution_count": 15,
      "outputs": []
    },
    {
      "cell_type": "code",
      "source": [
        "model.summary()"
      ],
      "metadata": {
        "colab": {
          "base_uri": "https://localhost:8080/"
        },
        "id": "aoUm8sPMMH-u",
        "outputId": "8ef56b72-e8fa-4b62-cbad-c44ffc73fb00"
      },
      "execution_count": 16,
      "outputs": [
        {
          "output_type": "stream",
          "name": "stdout",
          "text": [
            "Model: \"sequential\"\n",
            "_________________________________________________________________\n",
            " Layer (type)                Output Shape              Param #   \n",
            "=================================================================\n",
            " block1_conv1 (Conv2D)       (None, None, None, 64)    1792      \n",
            "                                                                 \n",
            " block1_conv2 (Conv2D)       (None, None, None, 64)    36928     \n",
            "                                                                 \n",
            " block1_pool (MaxPooling2D)  (None, None, None, 64)    0         \n",
            "                                                                 \n",
            " block2_conv1 (Conv2D)       (None, None, None, 128)   73856     \n",
            "                                                                 \n",
            " block2_conv2 (Conv2D)       (None, None, None, 128)   147584    \n",
            "                                                                 \n",
            " block2_pool (MaxPooling2D)  (None, None, None, 128)   0         \n",
            "                                                                 \n",
            " block3_conv1 (Conv2D)       (None, None, None, 256)   295168    \n",
            "                                                                 \n",
            " block3_conv2 (Conv2D)       (None, None, None, 256)   590080    \n",
            "                                                                 \n",
            " block3_conv3 (Conv2D)       (None, None, None, 256)   590080    \n",
            "                                                                 \n",
            " block3_pool (MaxPooling2D)  (None, None, None, 256)   0         \n",
            "                                                                 \n",
            " block4_conv1 (Conv2D)       (None, None, None, 512)   1180160   \n",
            "                                                                 \n",
            " block4_conv2 (Conv2D)       (None, None, None, 512)   2359808   \n",
            "                                                                 \n",
            " block4_conv3 (Conv2D)       (None, None, None, 512)   2359808   \n",
            "                                                                 \n",
            " block4_pool (MaxPooling2D)  (None, None, None, 512)   0         \n",
            "                                                                 \n",
            " block5_conv1 (Conv2D)       (None, None, None, 512)   2359808   \n",
            "                                                                 \n",
            " block5_conv2 (Conv2D)       (None, None, None, 512)   2359808   \n",
            "                                                                 \n",
            " block5_conv3 (Conv2D)       (None, None, None, 512)   2359808   \n",
            "                                                                 \n",
            " block5_pool (MaxPooling2D)  (None, None, None, 512)   0         \n",
            "                                                                 \n",
            " spatial_pyramid_pooling2d (  (None, 35, 512)          0         \n",
            " SpatialPyramidPooling2D)                                        \n",
            "                                                                 \n",
            " flatten (Flatten)           (None, 17920)             0         \n",
            "                                                                 \n",
            " dense (Dense)               (None, 512)               9175552   \n",
            "                                                                 \n",
            "=================================================================\n",
            "Total params: 23,890,240\n",
            "Trainable params: 9,175,552\n",
            "Non-trainable params: 14,714,688\n",
            "_________________________________________________________________\n"
          ]
        }
      ]
    },
    {
      "cell_type": "code",
      "source": [
        ""
      ],
      "metadata": {
        "id": "OGoswJ11MIE5"
      },
      "execution_count": 16,
      "outputs": []
    },
    {
      "cell_type": "code",
      "source": [
        ""
      ],
      "metadata": {
        "id": "lZPptgERMIMR"
      },
      "execution_count": 16,
      "outputs": []
    },
    {
      "cell_type": "code",
      "source": [
        "# Reading the Data\n",
        "\n",
        "img_gen = ImageDataGenerator(\n",
        "    rescale = 1./255.0\n",
        ")"
      ],
      "metadata": {
        "id": "Jj1jUrNV8Z9H"
      },
      "execution_count": 44,
      "outputs": []
    },
    {
      "cell_type": "code",
      "source": [
        "train_data = DirectoryIterator(\n",
        "    path, \n",
        "    img_gen,\n",
        "  #  target_size = (224, 224),\n",
        "    batch_size = 20,\n",
        "    class_mode = 'categorical',\n",
        "    subset = 'training',\n",
        "    shuffle = True, \n",
        "    seed = 43,\n",
        "    color_mode = 'rgb',\n",
        "    classes = ['cat', 'dog']\n",
        ")\n",
        "\n",
        "testing_data = DirectoryIterator(\n",
        "     testing_path, \n",
        "     img_gen,\n",
        "\n",
        "  #  target_size = (224, 224),\n",
        "    batch_size = 20,\n",
        "    class_mode = 'categorical',\n",
        "   # subset = 'validation',\n",
        "    shuffle = True, \n",
        "    seed = 43,\n",
        "    color_mode = 'rgb',\n",
        "    classes = ['cat', 'dog']\n",
        ")"
      ],
      "metadata": {
        "colab": {
          "base_uri": "https://localhost:8080/"
        },
        "id": "1XCLFSRd8aDN",
        "outputId": "2bb0aec7-6ee0-467f-86cf-8eb81019ad42"
      },
      "execution_count": 45,
      "outputs": [
        {
          "output_type": "stream",
          "name": "stdout",
          "text": [
            "Found 250 images belonging to 2 classes.\n",
            "Found 91 images belonging to 2 classes.\n"
          ]
        }
      ]
    },
    {
      "cell_type": "code",
      "source": [
        "output_layer = tf.layers.Dense(\n",
        "    units = 2, activation = 'softmax'\n",
        ")"
      ],
      "metadata": {
        "id": "0UJphmm-8aHB"
      },
      "execution_count": 19,
      "outputs": []
    },
    {
      "cell_type": "code",
      "source": [
        "model.add(output_layer)"
      ],
      "metadata": {
        "id": "Hz_--OCy8aOO"
      },
      "execution_count": 20,
      "outputs": []
    },
    {
      "cell_type": "code",
      "source": [
        "\n",
        "model.summary()"
      ],
      "metadata": {
        "colab": {
          "base_uri": "https://localhost:8080/"
        },
        "id": "ibKt8Bug8aVL",
        "outputId": "c55bccec-effa-414f-f889-6320c9d2be57"
      },
      "execution_count": 21,
      "outputs": [
        {
          "output_type": "stream",
          "name": "stdout",
          "text": [
            "Model: \"sequential\"\n",
            "_________________________________________________________________\n",
            " Layer (type)                Output Shape              Param #   \n",
            "=================================================================\n",
            " block1_conv1 (Conv2D)       (None, None, None, 64)    1792      \n",
            "                                                                 \n",
            " block1_conv2 (Conv2D)       (None, None, None, 64)    36928     \n",
            "                                                                 \n",
            " block1_pool (MaxPooling2D)  (None, None, None, 64)    0         \n",
            "                                                                 \n",
            " block2_conv1 (Conv2D)       (None, None, None, 128)   73856     \n",
            "                                                                 \n",
            " block2_conv2 (Conv2D)       (None, None, None, 128)   147584    \n",
            "                                                                 \n",
            " block2_pool (MaxPooling2D)  (None, None, None, 128)   0         \n",
            "                                                                 \n",
            " block3_conv1 (Conv2D)       (None, None, None, 256)   295168    \n",
            "                                                                 \n",
            " block3_conv2 (Conv2D)       (None, None, None, 256)   590080    \n",
            "                                                                 \n",
            " block3_conv3 (Conv2D)       (None, None, None, 256)   590080    \n",
            "                                                                 \n",
            " block3_pool (MaxPooling2D)  (None, None, None, 256)   0         \n",
            "                                                                 \n",
            " block4_conv1 (Conv2D)       (None, None, None, 512)   1180160   \n",
            "                                                                 \n",
            " block4_conv2 (Conv2D)       (None, None, None, 512)   2359808   \n",
            "                                                                 \n",
            " block4_conv3 (Conv2D)       (None, None, None, 512)   2359808   \n",
            "                                                                 \n",
            " block4_pool (MaxPooling2D)  (None, None, None, 512)   0         \n",
            "                                                                 \n",
            " block5_conv1 (Conv2D)       (None, None, None, 512)   2359808   \n",
            "                                                                 \n",
            " block5_conv2 (Conv2D)       (None, None, None, 512)   2359808   \n",
            "                                                                 \n",
            " block5_conv3 (Conv2D)       (None, None, None, 512)   2359808   \n",
            "                                                                 \n",
            " block5_pool (MaxPooling2D)  (None, None, None, 512)   0         \n",
            "                                                                 \n",
            " spatial_pyramid_pooling2d (  (None, 35, 512)          0         \n",
            " SpatialPyramidPooling2D)                                        \n",
            "                                                                 \n",
            " flatten (Flatten)           (None, 17920)             0         \n",
            "                                                                 \n",
            " dense (Dense)               (None, 512)               9175552   \n",
            "                                                                 \n",
            " dense_1 (Dense)             (None, 2)                 1026      \n",
            "                                                                 \n",
            "=================================================================\n",
            "Total params: 23,891,266\n",
            "Trainable params: 9,176,578\n",
            "Non-trainable params: 14,714,688\n",
            "_________________________________________________________________\n"
          ]
        }
      ]
    },
    {
      "cell_type": "code",
      "source": [
        "model.compile(\n",
        "    loss = tf.losses.categorical_crossentropy,\n",
        "    optimizer = tf.optimizers.Adam(learning_rate = 0.0001),\n",
        "    metrics = 'accuracy'\n",
        ")"
      ],
      "metadata": {
        "id": "lFY4biYV8abo"
      },
      "execution_count": 22,
      "outputs": []
    },
    {
      "cell_type": "code",
      "source": [
        "history = model.fit(\n",
        "    train_data, batch_size = 20, epochs = 15, validation_data = testing_data, validation_batch_size = 20\n",
        ")"
      ],
      "metadata": {
        "colab": {
          "base_uri": "https://localhost:8080/"
        },
        "id": "_DP5vdk3_KTa",
        "outputId": "b961da0b-364c-4161-e996-505d1557049d"
      },
      "execution_count": 46,
      "outputs": [
        {
          "output_type": "stream",
          "name": "stdout",
          "text": [
            "Epoch 1/15\n",
            "13/13 [==============================] - 44s 4s/step - loss: 0.2317 - accuracy: 0.9040 - val_loss: 0.3443 - val_accuracy: 0.8901\n",
            "Epoch 2/15\n",
            "13/13 [==============================] - 17s 1s/step - loss: 0.1019 - accuracy: 0.9760 - val_loss: 0.3978 - val_accuracy: 0.8352\n",
            "Epoch 3/15\n",
            "13/13 [==============================] - 18s 1s/step - loss: 0.0734 - accuracy: 0.9840 - val_loss: 0.3783 - val_accuracy: 0.8242\n",
            "Epoch 4/15\n",
            "13/13 [==============================] - 18s 1s/step - loss: 0.0343 - accuracy: 1.0000 - val_loss: 0.3137 - val_accuracy: 0.8462\n",
            "Epoch 5/15\n",
            "13/13 [==============================] - 18s 1s/step - loss: 0.0234 - accuracy: 1.0000 - val_loss: 0.3030 - val_accuracy: 0.8571\n",
            "Epoch 6/15\n",
            "13/13 [==============================] - 18s 1s/step - loss: 0.0157 - accuracy: 1.0000 - val_loss: 0.2980 - val_accuracy: 0.8571\n",
            "Epoch 7/15\n",
            "13/13 [==============================] - 18s 1s/step - loss: 0.0122 - accuracy: 1.0000 - val_loss: 0.2956 - val_accuracy: 0.8571\n",
            "Epoch 8/15\n",
            "13/13 [==============================] - 18s 1s/step - loss: 0.0100 - accuracy: 1.0000 - val_loss: 0.2974 - val_accuracy: 0.8681\n",
            "Epoch 9/15\n",
            "13/13 [==============================] - 17s 1s/step - loss: 0.0084 - accuracy: 1.0000 - val_loss: 0.2974 - val_accuracy: 0.8681\n",
            "Epoch 10/15\n",
            "13/13 [==============================] - 17s 1s/step - loss: 0.0071 - accuracy: 1.0000 - val_loss: 0.2929 - val_accuracy: 0.8791\n",
            "Epoch 11/15\n",
            "13/13 [==============================] - 17s 1s/step - loss: 0.0063 - accuracy: 1.0000 - val_loss: 0.2962 - val_accuracy: 0.8791\n",
            "Epoch 12/15\n",
            "13/13 [==============================] - 17s 1s/step - loss: 0.0052 - accuracy: 1.0000 - val_loss: 0.2937 - val_accuracy: 0.8681\n",
            "Epoch 13/15\n",
            "13/13 [==============================] - 17s 1s/step - loss: 0.0046 - accuracy: 1.0000 - val_loss: 0.2944 - val_accuracy: 0.8791\n",
            "Epoch 14/15\n",
            "13/13 [==============================] - 19s 2s/step - loss: 0.0041 - accuracy: 1.0000 - val_loss: 0.2941 - val_accuracy: 0.8791\n",
            "Epoch 15/15\n",
            "13/13 [==============================] - 17s 1s/step - loss: 0.0036 - accuracy: 1.0000 - val_loss: 0.2929 - val_accuracy: 0.8681\n"
          ]
        }
      ]
    },
    {
      "cell_type": "code",
      "source": [
        "model.save('dog_cat.h5')"
      ],
      "metadata": {
        "id": "tDqNm44O_KaI"
      },
      "execution_count": 24,
      "outputs": []
    },
    {
      "cell_type": "code",
      "source": [
        "image_location = 'https://encrypted-tbn0.gstatic.com/images?q=tbn:ANd9GcQjLAl9xxJzpKO6AJobnBQg9q3dqZXq--KVuw&usqp=CAU'"
      ],
      "metadata": {
        "id": "U0GWFU0u_Khk"
      },
      "execution_count": 25,
      "outputs": []
    },
    {
      "cell_type": "code",
      "source": [
        "img = cv2.imread('/content/test3.jpeg')\n",
        "print(img.shape)\n",
        "plt.imshow(img, cmap = 'gray')"
      ],
      "metadata": {
        "colab": {
          "base_uri": "https://localhost:8080/",
          "height": 304
        },
        "id": "Z1hwhKNl_Kmc",
        "outputId": "6ecd5db1-8858-453e-ec9f-93ab339f3268"
      },
      "execution_count": 53,
      "outputs": [
        {
          "output_type": "stream",
          "name": "stdout",
          "text": [
            "(225, 225, 3)\n"
          ]
        },
        {
          "output_type": "execute_result",
          "data": {
            "text/plain": [
              "<matplotlib.image.AxesImage at 0x7f280b503590>"
            ]
          },
          "metadata": {},
          "execution_count": 53
        },
        {
          "output_type": "display_data",
          "data": {
            "text/plain": [
              "<Figure size 432x288 with 1 Axes>"
            ],
            "image/png": "[encoded data removed]"
          },
          "metadata": {
            "needs_background": "light"
          }
        }
      ]
    },
    {
      "cell_type": "code",
      "source": [
        "img = img.reshape(1, 225, 225, 3)\n",
        "\n"
      ],
      "metadata": {
        "id": "N_JY4Q62_KtN"
      },
      "execution_count": 54,
      "outputs": []
    },
    {
      "cell_type": "code",
      "source": [
        "model.predict(img)"
      ],
      "metadata": {
        "colab": {
          "base_uri": "https://localhost:8080/"
        },
        "id": "GbveJUai_K2B",
        "outputId": "8db2100a-334e-4876-c9eb-1503d28d6739"
      },
      "execution_count": 55,
      "outputs": [
        {
          "output_type": "execute_result",
          "data": {
            "text/plain": [
              "array([[1., 0.]], dtype=float32)"
            ]
          },
          "metadata": {},
          "execution_count": 55
        }
      ]
    },
    {
      "cell_type": "code",
      "source": [
        "testing_data"
      ],
      "metadata": {
        "colab": {
          "base_uri": "https://localhost:8080/"
        },
        "id": "5a6QhMUt6upG",
        "outputId": "c02d15ee-fc28-44ac-cc9a-ed2a4434335d"
      },
      "execution_count": 56,
      "outputs": [
        {
          "output_type": "execute_result",
          "data": {
            "text/plain": [
              "<keras.preprocessing.image.DirectoryIterator at 0x7f279e2c05d0>"
            ]
          },
          "metadata": {},
          "execution_count": 56
        }
      ]
    },
    {
      "cell_type": "code",
      "source": [
        ""
      ],
      "metadata": {
        "id": "PH29W72I6uuH"
      },
      "execution_count": null,
      "outputs": []
    },
    {
      "cell_type": "code",
      "source": [
        ""
      ],
      "metadata": {
        "id": "BGpRlEkk6uzK"
      },
      "execution_count": 30,
      "outputs": []
    },
    {
      "cell_type": "code",
      "source": [
        ""
      ],
      "metadata": {
        "colab": {
          "base_uri": "https://localhost:8080/"
        },
        "id": "V5f22VJ1FX4z",
        "outputId": "9ef6040a-1312-457c-f736-0fa2c67b34ff"
      },
      "execution_count": 34,
      "outputs": [
        {
          "output_type": "execute_result",
          "data": {
            "text/plain": [
              "['cat', 'dog']"
            ]
          },
          "metadata": {},
          "execution_count": 34
        }
      ]
    },
    {
      "cell_type": "code",
      "source": [
        ""
      ],
      "metadata": {
        "id": "0b5jS0t-FaxY"
      },
      "execution_count": null,
      "outputs": []
    }
  ]
}